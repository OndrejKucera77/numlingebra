{
 "cells": [
  {
   "cell_type": "markdown",
   "id": "8a2aa113",
   "metadata": {},
   "source": [
    "# Semestrální projekt z NLA1 2024/25\n",
    "**Zadání č. 3**<br>\n",
    "**Kučera Ondřej**"
   ]
  },
  {
   "cell_type": "markdown",
   "id": "3767d112",
   "metadata": {},
   "source": [
    "## Úkol 1\n",
    "Naprogramujte v programovacím jazyce Python LU rozklad matice $A\\in \\mathbb{R}^{n×n}, A = LU$,\n",
    "pomocí následujícího pseudokódu:\n",
    "\n",
    "$$\n",
    "\\begin{array}{l}\n",
    "L = I; U = 0\\\\\n",
    "\\text{for } j = 1 : n\\\\\n",
    "    \\quad\\begin{array}{l}\n",
    "    \\text{if } j = 1\\\\\n",
    "        \\quad\\begin{array}{l}\n",
    "        v(j : n) = A(j : n, j)\n",
    "        \\end{array}\\\\\n",
    "    \\text{else}\\\\\n",
    "        \\quad\\begin{array}{l}\n",
    "        \\text{Solve } L(1 : (j - 1), 1 : (j - 1))z = A(1 : (j - 1), j) \\text{ for } z\\\\\n",
    "            \\text{ and set } U(1 : (j - 1), j) = z\\\\\n",
    "        v(j : n) = A(j : n, j) - L(j : n, 1 : (j - 1))z\n",
    "        \\end{array}\\\\\n",
    "    \\text{end if}\\\\\n",
    "    \\text{if } j < n\\\\\n",
    "        \\quad\\begin{array}{l}\n",
    "        L((j + 1) : n, j) = v((j + 1) : n) / v(j)\n",
    "        \\end{array}\\\\\n",
    "    \\text{end if}\\\\\n",
    "    U(j, j) = v(j)\n",
    "    \\end{array}\\\\\n",
    "\\text{end for}\n",
    "\\end{array}\n",
    "$$"
   ]
  },
  {
   "cell_type": "code",
   "execution_count": 14,
   "id": "c93fd3a3",
   "metadata": {},
   "outputs": [],
   "source": [
    "import numpy as np"
   ]
  },
  {
   "cell_type": "code",
   "execution_count": 15,
   "id": "1230dfa9",
   "metadata": {},
   "outputs": [],
   "source": [
    "def LU_rozklad(A):\n",
    "    \"\"\"\n",
    "    Vypočítá LU rozklad čtvercové matice A.\n",
    "    \"\"\"\n",
    "    m, n = A.shape\n",
    "    if m != n:\n",
    "        raise ValueError(\"Matice musí být čtvercová!\")\n",
    "\n",
    "    L = np.eye(n)\n",
    "    U = np.zeros((n, n))\n",
    "    v = np.zeros(n)\n",
    "\n",
    "    for j in range(n):\n",
    "        if j == 0:\n",
    "            v[j:n] = A[j:n, j]\n",
    "        else:\n",
    "            z = np.zeros(j)\n",
    "            for i in range(j):\n",
    "                z[i] = (A[i, j] - L[i, 0:i] @ z[0:i]) / L[i, i]\n",
    "            \n",
    "            U[0:j, j] = z\n",
    "            v[j:n] = A[j:n, j] - L[j:n, 0:j] @ z\n",
    "\n",
    "        if j < n-1:\n",
    "            L[j+1:n, j] = v[j+1:n] / v[j]\n",
    "        \n",
    "        U[j, j] = v[j]\n",
    "\n",
    "    return L, U"
   ]
  },
  {
   "cell_type": "code",
   "execution_count": 16,
   "id": "87f521eb",
   "metadata": {},
   "outputs": [
    {
     "name": "stdout",
     "output_type": "stream",
     "text": [
      "[[1. 0. 0.]\n",
      " [2. 1. 0.]\n",
      " [4. 0. 1.]]\n",
      "[[ 1.  1.  3.]\n",
      " [ 0.  1. -1.]\n",
      " [ 0.  0. -3.]]\n",
      "True\n"
     ]
    }
   ],
   "source": [
    "A = np.array([[1, 1, 3],\n",
    "              [2, 3, 5],\n",
    "              [4, 4, 9]])\n",
    "\n",
    "L, U = LU_rozklad(A)\n",
    "print(L)\n",
    "print(U)\n",
    "print(np.allclose(A, L @ U))"
   ]
  },
  {
   "cell_type": "markdown",
   "id": "f0360998",
   "metadata": {},
   "source": [
    "Rozšiřte algoritmus tak, aby fungoval pro matice $A\\in \\mathbb{R}^{m×n}$, přičemž $m > n$."
   ]
  },
  {
   "cell_type": "code",
   "execution_count": 17,
   "id": "9a7dbfdb",
   "metadata": {},
   "outputs": [],
   "source": [
    "def LU_rozklad(A):\n",
    "    \"\"\"\n",
    "    Vypočítá LU rozklad obdélníkové nebo čtvercové matice A (m >= n).\n",
    "    \"\"\"\n",
    "    m, n = A.shape\n",
    "    if m < n:\n",
    "        raise ValueError(\"Počet řádků matice nesmí být menší než počet sloupců!\")\n",
    "\n",
    "    L = np.eye(m)\n",
    "    U = np.zeros((m, n))\n",
    "    v = np.zeros(m)\n",
    "\n",
    "    for j in range(n):\n",
    "        if j == 0:\n",
    "            v[j:m] = A[j:m, j]\n",
    "        else:\n",
    "            z = np.zeros(j)\n",
    "            for i in range(j):\n",
    "                z[i] = (A[i, j] - L[i, 0:i] @ z[0:i]) / L[i, i]\n",
    "            \n",
    "            U[0:j, j] = z\n",
    "            v[j:m] = A[j:m, j] - L[j:m, 0:j] @ z\n",
    "\n",
    "        if j < n-1:\n",
    "            L[j+1:m, j] = v[j+1:m] / v[j]\n",
    "        \n",
    "        U[j, j] = v[j]\n",
    "    \n",
    "    for j in range(n, m):\n",
    "        L[j, n-1] = (A[j, n-1] - L[j, 0:n-1] @ U[0:n-1, n-1]) / U[n-1, n-1]\n",
    "\n",
    "    return L, U"
   ]
  },
  {
   "cell_type": "code",
   "execution_count": 18,
   "id": "3b9d08ad",
   "metadata": {},
   "outputs": [
    {
     "name": "stdout",
     "output_type": "stream",
     "text": [
      "[[1. 0. 0. 0. 0.]\n",
      " [1. 1. 0. 0. 0.]\n",
      " [2. 1. 1. 0. 0.]\n",
      " [1. 1. 3. 1. 0.]\n",
      " [3. 1. 3. 1. 1.]]\n",
      "[[ 1.  2. -1.  0.]\n",
      " [ 0.  2.  3.  4.]\n",
      " [ 0.  0.  1. -2.]\n",
      " [ 0.  0.  0.  5.]\n",
      " [ 0.  0.  0.  0.]]\n",
      "True\n"
     ]
    }
   ],
   "source": [
    "A = np.array([[1, 2, -1, 0],\n",
    "              [1, 4, 2, 4],\n",
    "              [2, 6, 2, 2],\n",
    "              [1, 4, 5, 3],\n",
    "              [3, 8, 3, 3]])\n",
    "\n",
    "L, U = LU_rozklad(A)\n",
    "print(L)\n",
    "print(U)\n",
    "print(np.allclose(A, L @ U))"
   ]
  },
  {
   "cell_type": "code",
   "execution_count": 19,
   "id": "dc91e5b2",
   "metadata": {},
   "outputs": [
    {
     "name": "stdout",
     "output_type": "stream",
     "text": [
      "True\n",
      "True\n"
     ]
    }
   ],
   "source": [
    "A = np.random.rand(10, 10)\n",
    "L, U = LU_rozklad(A)\n",
    "print(np.allclose(A, L@U))\n",
    "\n",
    "A = np.random.rand(15, 10)\n",
    "L, U = LU_rozklad(A)\n",
    "print(np.allclose(A, L@U))"
   ]
  },
  {
   "cell_type": "markdown",
   "id": "6a9ebb62",
   "metadata": {},
   "source": [
    "Zkuste odhadnout potřebný počet operací ve tvaru $O(kn^l)$, resp. $O(\\tilde{k}{m}^{\\tilde{l}})$, tzn. parametry $k, l\\in \\mathbb{Q}$, resp. $\\tilde{k}, \\tilde{l}\\in \\mathbb{Q}$."
   ]
  },
  {
   "cell_type": "markdown",
   "id": "003e63d9",
   "metadata": {},
   "source": [
    "### Analýza složitosti\n",
    "Algoritmus se skládá z definice proměnných a dvou cyklů, z nichž ten první se provede $n$-krát a druhý se provede $(m-n)$-krát.<br>\n",
    "Budu uvažovat pouze maticové/vektorové operace (násobení, sčítání/odčítání, definice/nastavení) uvnitř cyklů.\n",
    "\n",
    "#### První cyklus\n",
    "V případě $j=0$ se provede řádek 15, který nastavuje všechny prvky vektoru $v$ na prvky $j$-tého sloupce $A$. Tedy se provede $m$ operací.\n",
    "\n",
    "V případě $j\\neq 0$ se provedou řádky 17-22.\n",
    "- Řádek 17 vytvoří vektor $z$ o $j$ prvcích, což je $j$ operací.\n",
    "- Řádky 18-19 obsahují cyklus, který se provede $j$-krát. Řádek 19 obsahuje skalární součin dvou vektorů o $i$ prvcích, což je $i$ operací.\n",
    "- Řádek 21 nastavuje část $U$ na $z$, což je $j$ operací.\n",
    "- Řádek 22:\n",
    "    - Nejprve se provede násobení matice s $(m-j)$ řádky a $j$ sloupci se sloupcovým vektorem o $j$ prvcích. Tohle je $(m-j)*j$ operací.\n",
    "    - Výsledkem je vektor o $(m-j)$ prvcích, ten se odečte od části matice $A$ a nastaví do vektoru $v$, což je $2*(m-j)$ operací.\n",
    "\n",
    "Dále, pro případ $j<n-1$ se provede řádek 25. V něm se nastaví část $L$ o $(m-j-1)$ prvcích, je to tedy $(m-j-1)$ operací.\n",
    "\n",
    "V prvním cyklu je to dohromady\n",
    "$$\n",
    "\\begin{split}\n",
    "počet_{první} &= m + \\sum_{j=1}^{n-1} (j + \\sum_{i=0}^{j-1} i + j + (m-j)j + 2(m-j)) \\\\\n",
    "              &= m + \\sum_{j=1}^{n-1} (2j + \\frac{j(j-1)}{2} + mj - j^2 + 2m - 2j) \\\\\n",
    "              &= m + \\sum_{j=1}^{n-1} (\\frac{j^2-j}{2} + mj - j^2 + 2m) \\\\\n",
    "              &= m + \\sum_{j=1}^{n-1} (2m + mj - \\frac{j^2}{2} - 2j) \\\\\n",
    "              &= m + 2m(n-1) + m\\frac{n(n-1)}{2} - \\frac{(n-1)n(2n-1)}{6*2} - 2\\frac{n(n-1)}{2} \\\\\n",
    "              &= m + 2mn - 2m + \\frac{1}{2}mn^2 - \\frac{1}{2}mn - \\frac{1}{6}n^3 + \\frac{1}{4}n^2 - \\frac{1}{12}n - n^2 + n \\\\\n",
    "              &= \\frac{1}{2}mn^2 + \\frac{3}{2}mn - m - \\frac{1}{6}n^3 - \\frac{3}{4}n^2 + \\frac{11}{12}n\n",
    "\\end{split}\n",
    "$$\n",
    "operací.\n",
    "\n",
    "#### Druhý cyklus\n",
    "Ve druhém cyklu se provádí jenom řádek 30, ve kterém se vynásobí vektory o $(n-1)$ prvcích, tedy $(n-1)$ operací.\n",
    "\n",
    "Ve druhém cyklu se tedy dohromady provede\n",
    "$$\n",
    "\\begin{split}\n",
    "počet_{druhý} &= \\sum_{j=n}^{m-1} (n-1) \\\\\n",
    "              &= (m-n)(n-1) \\\\\n",
    "              &= mn - m - n^2 + n\n",
    "\\end{split}\n",
    "$$\n",
    "operací.\n",
    "\n",
    "#### Celkový počet operací\n",
    "Počet operací celkem za oba cykly dostanu součtem.\n",
    "$$\n",
    "\\begin{split}\n",
    "počet_{celkem} &= počet_{první} + počet_{druhý} \\\\\n",
    "               &= \\frac{1}{2}mn^2 + \\frac{3}{2}mn - m - \\frac{1}{6}n^3 - \\frac{3}{4}n^2 + \\frac{11}{12}n + mn - m - n^2 + n \\\\\n",
    "               &= \\frac{1}{2}mn^2 + \\frac{5}{2}mn - 2m - \\frac{1}{6}n^3 - \\frac{7}{4}n^2 + \\frac{23}{12}n\n",
    "\\end{split}\n",
    "$$\n",
    "\n",
    "Vzhledem k tomu, že $m\\geq n$, pak\n",
    "$$\n",
    "\\begin{split}\n",
    "počet_{celkem} &\\leq \\frac{1}{2}m^3 + \\frac{5}{2}m^2 - 2m - \\frac{1}{6}m^3 - \\frac{7}{4}m^2 + \\frac{23}{12}m \\\\\n",
    "               &= \\frac{1}{3}m^3 - \\frac{3}{4}m^2 - \\frac{1}{12}m \\\\\n",
    "               &\\in O(\\frac{1}{3}m^3)\n",
    "\\end{split}\n",
    "$$\n",
    "Algoritmus má tedy asymtotickou časovou složitost $O(\\frac{1}{3}m^3)$, tedy $\\tilde{k} = \\frac{1}{3}$ a $\\tilde{l} = 3$."
   ]
  }
 ],
 "metadata": {
  "kernelspec": {
   "display_name": "Python 3",
   "language": "python",
   "name": "python3"
  },
  "language_info": {
   "codemirror_mode": {
    "name": "ipython",
    "version": 3
   },
   "file_extension": ".py",
   "mimetype": "text/x-python",
   "name": "python",
   "nbconvert_exporter": "python",
   "pygments_lexer": "ipython3",
   "version": "3.11.9"
  }
 },
 "nbformat": 4,
 "nbformat_minor": 5
}
