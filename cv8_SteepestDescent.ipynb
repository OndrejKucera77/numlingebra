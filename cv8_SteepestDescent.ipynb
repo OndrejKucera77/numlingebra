{
 "cells": [
  {
   "attachments": {},
   "cell_type": "markdown",
   "metadata": {},
   "source": [
    "# Cvičení 8\n",
    "\n",
    "Stále pokračujeme v iteračním řešení soustav lineárních rovnic.\n",
    "\n",
    "## Metoda největšího spádu\n",
    "\n",
    "V tomto cvičení budeme řešit soustavu $\\mathsf{A}\\mathbf{x}=\\mathbf{b}$ se symetrickou pozitivně definitní maticí pomocí metody největšího spádu."
   ]
  },
  {
   "cell_type": "markdown",
   "metadata": {},
   "source": [
    "### Příklad 1\n",
    "\n",
    "Doplňte správné řešení Metody největšího spádu (anlicky Steepest Descent method) do buňky níže dle algoritmu z přednášek: \n",
    "\n",
    "\n",
    "$$\n",
    "\\begin{array}{l}\n",
    "\\text{Input: SPD matrix } A, \\text{ right-hand side vector } b, \\text{ initial approximation } x_0, \\epsilon \\in (0,1), \\text{ maximum number of iterations max\\_it.}\\\\\n",
    "k = 0  \\\\\n",
    "r^0 := b - Ax^0 \\\\\n",
    "\\text{\\bf{while} } ||r^k||_A/||r^0||_A > \\epsilon \\\\\n",
    "\\quad\\begin{array}{l}\n",
    "    \\alpha_k := ||r^k||^2/||r^k||^2_A \\\\\n",
    "    x^{k+1} := x^k + \\alpha_k r^k \\\\ \n",
    "    r^{k+1} := b - Ax^{k+1} \\\\\n",
    "    k = k + 1 \\\\\n",
    "\\end{array}\\\\\n",
    "\\text{end while}\\\\\n",
    "\\text{The solution is stored in } x^{k}.\\\\\n",
    "\\end{array}\n",
    "$$\n",
    "\n",
    "Zde podmínku $||r^k||_A/||r^0||_A$ můžeme rozepsat jako \n",
    "$$ \\frac{||r^k||_A}{||r^0||_A} = \\frac{\\sqrt{(r^k)^TAr^k}}{\\sqrt{(r^0)^TAr^0}} $$ \n",
    "\n",
    "a $\\alpha_k := ||r^k||^2/||r^k||^2_A$ jako \n",
    "$$ \\alpha_k := \\frac{||r^k||^2}{||r^k||^2_A} = \\frac{(r^k)^T r^k}{(r^k)^T A r^k} $$ \n",
    "(vztahy na pravé straně jsou vhodnější pro implementaci)."
   ]
  },
  {
   "cell_type": "code",
   "execution_count": null,
   "metadata": {},
   "outputs": [],
   "source": [
    "# Zavolejte tuto bunku, cimz vytvorime nahodnou symetrickou pozitivne definitni matici\n",
    "\n",
    "import numpy as np\n",
    "\n",
    "np.random.seed(42)  # Nastavíme seed pro generátor náhodných čísel, abychom vždy dostali stejnou matici\n",
    "\n",
    "n = 10\n",
    "U = np.triu(np.random.rand(n, n), 1)\n",
    "d = 100 * np.random.rand(n, 1)\n",
    "A = np.diag(d.flatten()) + U + U.T  # matice soustavy\n",
    "b = np.random.rand(n, 1)            # vektor prave strany\n",
    "x0 = np.zeros((n, 1))               # pocatecni odhad reseni"
   ]
  },
  {
   "cell_type": "code",
   "execution_count": 2,
   "metadata": {},
   "outputs": [],
   "source": [
    "def steepest_descent(A, b, x0, tol, max_it):\n",
    "    \"\"\"\n",
    "    Resi system Ax=b s SPD matici A.\n",
    "    A: matice soustavy\n",
    "    b: vektor prave strany\n",
    "    x0: pocatecni odhad\n",
    "    tol: relativni presnost\n",
    "    max_it: maximalni pocet iteraci\n",
    "    \"\"\"\n",
    "\n",
    "    # citac iteraci\n",
    "    k = 0\n",
    "\n",
    "    # vektor pocatecniho rezidua\n",
    "    x = x0\n",
    "    r = r0 = b - A @ x\n",
    "    \n",
    "    # vytvorime pole, do ktereho budeme ukladat normy rezidua v jednotlivych iteracich\n",
    "    # (pro vykreslení grafu v Příkladu 2)   \n",
    "    residuals = [np.linalg.norm(r)]\n",
    "\n",
    "    # hlavni smycka\n",
    "    while (np.sqrt(r.T @ A @ r) / np.sqrt(r0.T @ A @ r0) > tol) and k < max_it:\n",
    "        # vypocet alpha_k\n",
    "        alfa = (r.T @ r) / (r.T @ A @ r)\n",
    "        \n",
    "        # vypocet x_{k+1}\n",
    "        x = x + alfa * r\n",
    "\n",
    "        # vypocet r_{k+1}\n",
    "        r = b - A @ x\n",
    "\n",
    "        # navysime citac iteraci\n",
    "        k += 1\n",
    "\n",
    "        # ulozime reziduum\n",
    "        residuals.append(np.linalg.norm(r))\n",
    "\n",
    "    return x, k, residuals"
   ]
  },
  {
   "cell_type": "code",
   "execution_count": 7,
   "metadata": {},
   "outputs": [
    {
     "name": "stdout",
     "output_type": "stream",
     "text": [
      "Vase funkce steepestDescent pravdepodobne pracuje spravne.\n",
      "\n"
     ]
    }
   ],
   "source": [
    "# Zavolame vami upravenou funkci:\n",
    "x, k, _ = steepest_descent(A, b, x0, 1e-12, 1000)\n",
    "\n",
    "# Otestujeme, zda je reseni v poradku\n",
    "x_python = np.linalg.solve(A, b)\n",
    "n = np.linalg.norm(x - x_python)\n",
    "\n",
    "if n < 1e-8:\n",
    "    print(\"Vase funkce steepestDescent pravdepodobne pracuje spravne.\\n\")\n",
    "else:\n",
    "    print(\"Ve funkci steepestDescent nejspis chyba.\\n\")"
   ]
  },
  {
   "cell_type": "markdown",
   "metadata": {},
   "source": [
    "### Příklad 2\n",
    "\n",
    "Pomocí Vaší metody steepest_descent() vyřešte soustavu s různou přesností, zapište počty iterací a pro největší přesnost vykreslete graf (normy) rezidua v závislosti na iteraci. "
   ]
  },
  {
   "cell_type": "code",
   "execution_count": null,
   "metadata": {},
   "outputs": [
    {
     "name": "stdout",
     "output_type": "stream",
     "text": [
      "Pocty iteraci metody nejvetsiho spadu: \n",
      "[41, 109, 245]\n"
     ]
    },
    {
     "data": {
      "image/png": "[encoded data removed]",
      "text/plain": [
       "<Figure size 432x288 with 1 Axes>"
      ]
     },
     "metadata": {
      "needs_background": "light"
     },
     "output_type": "display_data"
    }
   ],
   "source": [
    "# Priklad 2\n",
    "# Pomoci metody steepest_descent() vyreste soustavu s ruznou presnosti.\n",
    "# Zapiste pocty iteraci potrebne k dosazeni dane presnosti do tabulky:\n",
    "x, k1, _ = steepest_descent(A, b, x0, 0.01, 2000)\n",
    "x, k2, _ = steepest_descent(A, b, x0, 0.0001, 2000)\n",
    "x, k3, residuals = steepest_descent(A, b, x0, 1e-8, 2000)\n",
    "\n",
    "print(\"Pocty iteraci metody nejvetsiho spadu: \")\n",
    "print([k1, k2, k3])\n",
    "\n",
    "# Doplnte tabulku\n",
    "# Metoda nejvetsiho spadu:\n",
    "# tol = 0.01,   k = 41\n",
    "# tol = 0.0001, k = 109\n",
    "# tol = 1e-8,   k = 245\n",
    "\n",
    "# Nakonec vykreslime graf normy rezidua v zavislosti na iteraci do \n",
    "# semilogaritmickeho grafu\n",
    "import matplotlib.pyplot as plt\n",
    "plt.semilogy(range(k3+1), residuals)\n",
    "plt.xlabel('Iterace')\n",
    "plt.ylabel('Relativni norma rezidua')\n",
    "plt.title('Konvergence pro tol=1e-8')\n",
    "plt.grid(True)\n",
    "plt.show()"
   ]
  }
 ],
 "metadata": {
  "kernelspec": {
   "display_name": "Python 3",
   "language": "python",
   "name": "python3"
  },
  "language_info": {
   "codemirror_mode": {
    "name": "ipython",
    "version": 3
   },
   "file_extension": ".py",
   "mimetype": "text/x-python",
   "name": "python",
   "nbconvert_exporter": "python",
   "pygments_lexer": "ipython3",
   "version": "3.10.12"
  },
  "orig_nbformat": 4
 },
 "nbformat": 4,
 "nbformat_minor": 2
}
