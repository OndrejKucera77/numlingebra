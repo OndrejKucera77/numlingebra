{
 "cells": [
  {
   "attachments": {},
   "cell_type": "markdown",
   "metadata": {},
   "source": [
    "# Cvičení 3\n",
    "\n",
    "Tématem tohoto cvičení jsou přímé metody řešení soustav lineárních rovnic. Budeme se zabývat dopřednou a zpětnou substitucí a LU rozkladem."
   ]
  },
  {
   "attachments": {},
   "cell_type": "markdown",
   "metadata": {},
   "source": [
    "## Dopředná a zpětná substituce\n",
    "\n",
    "Základní princip přímých metod řešení soustav lineárních rovnic je převod matice soustavy na součin trojúhelníkových matic, např. \n",
    "$$\\mathsf{A} = \\mathsf{L}\\mathsf{U}.$$\n",
    "Soustavu $\\mathsf{A}\\mathbf{x} = \\mathbf{b}$ tak převedeme na tvar\n",
    "$$\\mathsf{L}\\mathsf{U}\\mathbf{x} = \\mathbf{b}$$\n",
    "a vyřešíme ji ve dvou krocích \n",
    "1) $\\mathsf{L}\\mathbf{y}=\\mathbf{b}$\n",
    "2) $\\mathsf{U}\\mathbf{x}=\\mathbf{y}$\n",
    "pomocí dopředné a zpětné substituce.\n",
    "\n",
    "V této části cvičení tedy nejdříve implementujeme funkce pro dopřednou a zpětnou substituci, které později využijeme k řešení soustav.\n",
    "\n",
    "### Testovací matice\n",
    "\n",
    "Nejprve vygenerujte testovací matice, pomocí kterých později zjistíte, zda vaše funkce pracují správně. Budete k tomu potřebovat\n",
    "- funkci z knihovny NumPy, pomocí které vygenerujete náhodnou matici o daném rozměru (znáte z prvního cvičení),\n",
    "- funkce `triu`, `tril` z knihovny NumPy (zjistěte v dokumentaci nebo pomocí Googlu, k čemu slouží a jak se používají)"
   ]
  },
  {
   "cell_type": "code",
   "execution_count": 3,
   "metadata": {},
   "outputs": [],
   "source": [
    "# ÚKOL: importujte potřebnou knihovnu NumPy pod zkratkou np\n",
    "import numpy as np"
   ]
  },
  {
   "cell_type": "code",
   "execution_count": 24,
   "metadata": {},
   "outputs": [
    {
     "name": "stdout",
     "output_type": "stream",
     "text": [
      "[[0.339 0.888 0.37  0.358]\n",
      " [0.601 0.582 0.583 0.186]\n",
      " [0.339 0.642 0.105 0.936]\n",
      " [0.256 0.95  0.361 0.864]]\n"
     ]
    }
   ],
   "source": [
    "# ÚKOL: vygenerujte matici A náhodných čísel o rozměrech 4x4\n",
    "A = np.random.rand(4, 4)\n",
    "\n",
    "np.set_printoptions(precision=3) # pro lepší přehlednost\n",
    "print(A)"
   ]
  },
  {
   "cell_type": "code",
   "execution_count": 5,
   "metadata": {},
   "outputs": [
    {
     "name": "stdout",
     "output_type": "stream",
     "text": [
      "[[0.314 0.622 0.068 0.201]\n",
      " [0.    0.53  0.691 0.695]\n",
      " [0.    0.    0.935 0.499]\n",
      " [0.    0.    0.    0.508]]\n",
      "---------------------\n",
      "[[0.314 0.    0.    0.   ]\n",
      " [0.301 0.53  0.    0.   ]\n",
      " [0.965 0.852 0.935 0.   ]\n",
      " [0.278 0.181 0.186 0.508]]\n",
      "---------------------\n",
      "[[0.099 0.195 0.021 0.063]\n",
      " [0.095 0.467 0.386 0.429]\n",
      " [0.303 1.052 1.529 1.254]\n",
      " [0.087 0.269 0.318 0.532]]\n"
     ]
    }
   ],
   "source": [
    "# ÚKOL: pomocí vhodných funkcí z knihovny NumPy extrahujte z matice A její horní a dolní trojúhelníkovou část.\n",
    "U = np.triu(A)\n",
    "print(U)\n",
    "print(\"---------------------\")\n",
    "\n",
    "L = np.tril(A)\n",
    "print(L)\n",
    "print(\"---------------------\")\n",
    "\n",
    "# Ověřte funkčnost porovnáním s příslušnou částí matice A\n",
    "B = L @ U\n",
    "print(B)"
   ]
  },
  {
   "cell_type": "code",
   "execution_count": 6,
   "metadata": {},
   "outputs": [
    {
     "name": "stdout",
     "output_type": "stream",
     "text": [
      "[0.206 0.219 0.8   0.232]\n"
     ]
    }
   ],
   "source": [
    "# ÚKOL: Vytvořte náhodný vektor b délky 4\n",
    "b = np.random.rand(4)\n",
    "\n",
    "print(b)"
   ]
  },
  {
   "attachments": {},
   "cell_type": "markdown",
   "metadata": {},
   "source": [
    "### Dopředná substituce\n",
    "\n",
    "Soustavu s dolní trojúhelníkovou maticí $\\mathsf{L}\\mathbf{x}=\\mathbf{b}$ můžeme efektivně řešit pomocí algoritmu dopředné substituce. \n",
    "\n",
    "1) Určíme první prvek vektoru řešení\n",
    "$$x_1 = b_1 / L_{1, 1}$$\n",
    "\n",
    "2) Zbývající prvky určíme jako \n",
    "$$\\forall i \\in \\{2, 3, \\ldots, m\\}: x_i = (b_i - \\sum_{j=1}^{i-1}L_{i, j} x_j) / L_{i, i}$$\n",
    "\n",
    "Na základě těchto předpisů doplňte chybějící části následujícího kódu. Nezapomeňte ale, že v Pythonu indexujeme od nuly."
   ]
  },
  {
   "cell_type": "code",
   "execution_count": 7,
   "metadata": {},
   "outputs": [],
   "source": [
    "# ÚKOL: Doplňte následující kód\n",
    "\n",
    "def fsubst(L, b):\n",
    "    m, n = L.shape             # pomocí vhodné funkce numpy uložte do proměnných m, n počet řádků a sloupců L\n",
    "    x = np.zeros(n)                # vytvořte vektor samých nul délky n\n",
    "\n",
    "    x[0] = b[0] / L[0, 0]   # první prvek řešení\n",
    "\n",
    "    for i in range(1, m):\n",
    "\n",
    "        # nejdříve pomocí vnořeného for cyklu určíme hodnotu sumy z kroku 2:\n",
    "        suma = 0\n",
    "        for j in range(i):                           # doplňte vhodně meze smyčky\n",
    "            suma += L[i, j] * x[j]                        # doplňte\n",
    "\n",
    "        # odečteme sumu od prvku pravé strany a vydělíme diagonálním prvkem\n",
    "        x[i] = (b[i] - suma)/L[i, i]                             # doplňte\n",
    "\n",
    "    return x\n"
   ]
  },
  {
   "cell_type": "code",
   "execution_count": 8,
   "metadata": {},
   "outputs": [
    {
     "name": "stdout",
     "output_type": "stream",
     "text": [
      "[[0.314 0.    0.    0.   ]\n",
      " [0.301 0.53  0.    0.   ]\n",
      " [0.965 0.852 0.935 0.   ]\n",
      " [0.278 0.181 0.186 0.508]]\n",
      "[0.206 0.219 0.8   0.232]\n",
      "[0.657 0.041 0.14  0.032]\n"
     ]
    }
   ],
   "source": [
    "# Otestujte pomocí L, b\n",
    "x = fsubst(L, b)\n",
    "print(L)\n",
    "print(b)\n",
    "print(x)"
   ]
  },
  {
   "cell_type": "code",
   "execution_count": 9,
   "metadata": {},
   "outputs": [
    {
     "name": "stdout",
     "output_type": "stream",
     "text": [
      "[0.657 0.041 0.14  0.032]\n"
     ]
    }
   ],
   "source": [
    "# ÚKOL: určete řešení pomocí funkce solve z numpy a porovnejte s vašim řešením\n",
    "x_numpy = np.linalg.solve(L, b)\n",
    "print(x_numpy)"
   ]
  },
  {
   "attachments": {},
   "cell_type": "markdown",
   "metadata": {},
   "source": [
    "### Zpětná substituce\n",
    "\n",
    "K vyřešení soustavy s horní trojúhelníkovou maticí $\\mathsf{U}\\mathbf{x} = \\mathbf{b}$ potřebujeme implementovat také algoritmus zpětné substituce. Ten je podobný dopředné substituci, postupuje však od posledního řádku:\n",
    "\n",
    "1) Určíme poslední prvek vektoru řešení \n",
    "$$x_m = b_m / U_{m,m}$$\n",
    "2) Určíme zbývající prvky\n",
    "$$\\forall i \\in \\{m-1, m-2, \\ldots, 1\\}: x_i = (b_i - \\sum_{j=i+1}^{m}U_{i, j}x_j) / U_{i, i}$$\n",
    "\n",
    "Implementujte v následující buňce vaši verzi zpětné substituce."
   ]
  },
  {
   "attachments": {},
   "cell_type": "markdown",
   "metadata": {},
   "source": [
    "**Poznámka** Při implementaci se vám bude hodit vědět, že funkce range umožňuje iterovat i \"pozpátku\". Vyzkoušejte si v následující buňce vytisknout přes jaká *i* iterují tyto `for` cykly:\n",
    "- `for i in range(6, 0, -1)`\n",
    "- `for i in range(6, -1, -1)`\n",
    "- `for i in range(6, 0, -2)`\n",
    "- `for i in range(0, -6, -1)`"
   ]
  },
  {
   "cell_type": "code",
   "execution_count": 10,
   "metadata": {},
   "outputs": [
    {
     "name": "stdout",
     "output_type": "stream",
     "text": [
      "6\n",
      "5\n",
      "4\n",
      "3\n",
      "2\n",
      "1\n",
      "\n",
      "6\n",
      "5\n",
      "4\n",
      "3\n",
      "2\n",
      "1\n",
      "0\n",
      "\n",
      "6\n",
      "4\n",
      "2\n",
      "\n",
      "0\n",
      "-1\n",
      "-2\n",
      "-3\n",
      "-4\n",
      "-5\n"
     ]
    }
   ],
   "source": [
    "# ÚKOL: Vytiskněte proměnnou i z příkladů v předchozí buňce.\n",
    "for i in range(6, 0, -1):\n",
    "    print(i)\n",
    "print()\n",
    "for i in range(6, -1, -1):\n",
    "    print(i)\n",
    "print()\n",
    "for i in range(6, 0, -2):\n",
    "    print(i)\n",
    "print()\n",
    "for i in range(0, -6, -1):\n",
    "    print(i)"
   ]
  },
  {
   "cell_type": "code",
   "execution_count": 11,
   "metadata": {},
   "outputs": [],
   "source": [
    "# ÚKOL: Implementujte algoritmus zpětné substituce.\n",
    "\n",
    "def b_subst(U, b):\n",
    "    m, n = U.shape\n",
    "    x = np.zeros(n)\n",
    "\n",
    "    x[-1] = b[-1] / U[-1, -1]\n",
    "\n",
    "    for i in range(m-1, -1, -1):\n",
    "        suma = 0\n",
    "        for j in range(m-1, i, -1):\n",
    "            suma += U[i, j] * x[j]\n",
    "        \n",
    "        x[i] = (b[i] - suma)/U[i, i]\n",
    "    \n",
    "    return x"
   ]
  },
  {
   "cell_type": "code",
   "execution_count": 12,
   "metadata": {},
   "outputs": [
    {
     "name": "stdout",
     "output_type": "stream",
     "text": [
      "[[0.314 0.622 0.068 0.201]\n",
      " [0.    0.53  0.691 0.695]\n",
      " [0.    0.    0.935 0.499]\n",
      " [0.    0.    0.    0.508]]\n",
      "[0.206 0.219 0.8   0.232]\n",
      "[ 2.179 -0.984  0.612  0.457]\n",
      "[ 2.179 -0.984  0.612  0.457]\n"
     ]
    }
   ],
   "source": [
    "# ÚKOL: ověřte pomocí numpy, že vaše funkce vrací správný výsledek\n",
    "\n",
    "print(U)\n",
    "print(b)\n",
    "x2 = b_subst(U, b)\n",
    "x2_numpy = np.linalg.solve(U, b) # doplňte\n",
    "print(x2)\n",
    "print(x2_numpy)"
   ]
  },
  {
   "attachments": {},
   "cell_type": "markdown",
   "metadata": {},
   "source": [
    "# Domácí úkol č. 1\n",
    "\n",
    "Algoritmus LU rozkladu lze popsat např. následujícím pseudokódem.\n",
    "\n",
    "```\n",
    "U = A, L = I\n",
    "for k = 1 to m-1 do\n",
    "    for j = k+1 to m do\n",
    "        L(j, k) = U(j, k)/U(k, k)\n",
    "        U(j, k:m) = U(j, k:m) - L(j, k)U(k, k:m)\n",
    "    end for\n",
    "end for\n",
    "```\n",
    "\n",
    "**Pozor**: značení `k:m` zde znamená sloupce od `k` po `m` *včetně*.\n",
    "\n",
    "Vašim úkolem je:\n",
    "1) Na základě uvedeného pseudokódu implementovat LU rozklad bez pivotizace do metody `L, U = my_lu(A)`. Metoda tedy bude mít na vstupu čtvercovou matici A a na výstupu dolní trojúhelníkovou matici L a horní trojúhelníkovou matici U takové, že `A = LU`.\n",
    "2) Sestavit náhodnou matici A o rozměrech 5x5 a pomocí ní ověřit, že vaše metoda funguje správně (`A - L @ U` by mělo vrátit matici s nulovými či velmi malými prvky).\n",
    "3) Sestavit náhodný vektor pravé strany `b` o délce 5. \n",
    "4) Pomocí vaší metody `my_lu` a na cvičení implementovaných metod `f_subst` a `b_subst` vyřešit soustavu `Ax = b`.\n",
    "5) Ověřit pomocí metody `np.linalg.solve`, že jste nalezli správné řešení. "
   ]
  },
  {
   "cell_type": "code",
   "execution_count": 30,
   "metadata": {},
   "outputs": [],
   "source": [
    "# Doplňte podle bodu 1)\n",
    "\n",
    "def my_lu(A):\n",
    "    m = A.shape[0]\n",
    "    U = np.copy(A)\n",
    "    L = np.eye(m)\n",
    "\n",
    "    for k in range(m-1):\n",
    "        for j in range(k+1, m):\n",
    "            L[j, k] = U[j, k] / U[k, k]\n",
    "            U[j, k:m+1] = U[j, k:m+1] - L[j, k] * U[k, k:m+1]\n",
    "    \n",
    "    return (L, U)"
   ]
  },
  {
   "cell_type": "code",
   "execution_count": 45,
   "metadata": {},
   "outputs": [
    {
     "name": "stdout",
     "output_type": "stream",
     "text": [
      "[[0.757 0.797 0.256 0.172 0.952]\n",
      " [0.498 0.415 0.621 0.839 0.296]\n",
      " [0.349 0.01  0.886 0.744 0.87 ]\n",
      " [0.658 0.51  0.49  0.559 0.616]\n",
      " [0.696 0.36  0.076 0.743 0.146]]\n",
      "[[1.    0.    0.    0.    0.   ]\n",
      " [0.658 1.    0.    0.    0.   ]\n",
      " [0.462 3.263 1.    0.    0.   ]\n",
      " [0.869 1.667 0.687 1.    0.   ]\n",
      " [0.919 3.396 2.392 5.934 1.   ]]\n",
      "[[ 7.566e-01  7.967e-01  2.563e-01  1.724e-01  9.522e-01]\n",
      " [-5.551e-17 -1.098e-01  4.528e-01  7.254e-01 -3.312e-01]\n",
      " [ 0.000e+00  0.000e+00 -7.095e-01 -1.702e+00  1.511e+00]\n",
      " [ 0.000e+00  0.000e+00 -5.551e-17  3.694e-01 -6.979e-01]\n",
      " [ 0.000e+00  0.000e+00  2.220e-16  0.000e+00  9.234e-01]]\n",
      "[[ 0.000e+00  0.000e+00  0.000e+00  0.000e+00  0.000e+00]\n",
      " [ 0.000e+00  0.000e+00  0.000e+00  0.000e+00  0.000e+00]\n",
      " [ 1.665e-16  1.388e-17 -2.220e-16 -1.110e-16 -1.110e-16]\n",
      " [ 1.110e-16  0.000e+00  1.110e-16 -1.110e-16 -1.110e-16]\n",
      " [ 2.220e-16  0.000e+00  4.580e-16 -3.331e-16  1.110e-16]]\n"
     ]
    }
   ],
   "source": [
    "# Doplňte podle bodu 2)\n",
    "A = np.random.rand(5, 5)\n",
    "L, U = my_lu(A)\n",
    "\n",
    "print(A)\n",
    "print(L)\n",
    "print(U)\n",
    "print(A - L @ U)"
   ]
  },
  {
   "cell_type": "code",
   "execution_count": 46,
   "metadata": {},
   "outputs": [
    {
     "name": "stdout",
     "output_type": "stream",
     "text": [
      "[0.188 0.785 0.272 0.198 0.132]\n"
     ]
    }
   ],
   "source": [
    "# Doplňte podle bodu 3)\n",
    "b = np.random.rand(5)\n",
    "print(b)"
   ]
  },
  {
   "cell_type": "code",
   "execution_count": 47,
   "metadata": {},
   "outputs": [
    {
     "name": "stdout",
     "output_type": "stream",
     "text": [
      "[-3.594  2.536 -0.973  2.261  0.784]\n"
     ]
    }
   ],
   "source": [
    "# Doplňte podle bodu 4)\n",
    "y = fsubst(L, b)\n",
    "x = b_subst(U, y)\n",
    "\n",
    "print(x)"
   ]
  },
  {
   "cell_type": "code",
   "execution_count": 48,
   "metadata": {},
   "outputs": [
    {
     "name": "stdout",
     "output_type": "stream",
     "text": [
      "[-3.594  2.536 -0.973  2.261  0.784]\n"
     ]
    }
   ],
   "source": [
    "# Doplňte podle bodu 5)\n",
    "x2 = np.linalg.solve(A, b)\n",
    "print(x2)"
   ]
  }
 ],
 "metadata": {
  "kernelspec": {
   "display_name": "Python 3",
   "language": "python",
   "name": "python3"
  },
  "language_info": {
   "codemirror_mode": {
    "name": "ipython",
    "version": 3
   },
   "file_extension": ".py",
   "mimetype": "text/x-python",
   "name": "python",
   "nbconvert_exporter": "python",
   "pygments_lexer": "ipython3",
   "version": "3.11.9"
  },
  "orig_nbformat": 4
 },
 "nbformat": 4,
 "nbformat_minor": 2
}
