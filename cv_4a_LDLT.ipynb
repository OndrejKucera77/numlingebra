{
 "cells": [
  {
   "cell_type": "markdown",
   "metadata": {},
   "source": [
    "# Cvičení 4a\n",
    "\n",
    "Tématem tohoto cvičení jsou přímé metody řešení soustav lineárních rovnic. Budeme se zabývat LDLT rozkladem."
   ]
  },
  {
   "cell_type": "markdown",
   "metadata": {},
   "source": [
    "## LDLT rozklad\n",
    "\n",
    "LDLT rozklad je vhodný pro symetrické matice. Lze jej popsat následujícím pseudokódem:\n",
    "\n",
    "```\n",
    "n = size(A)\n",
    "L = I, D = 0\n",
    "\n",
    "v(1) = A(1, 1)\n",
    "D(1, 1) = v(1)\n",
    "L(2:n, 1) = A(2:n, 1)/v(1)\n",
    "\n",
    "for j = 2 to n do\n",
    "    for i = 1 to j - 1 do\n",
    "        v(i) = L(j, i)D(i, i)\n",
    "    end\n",
    "\n",
    "    v(j) = A(j, j) - L(j, 1:j-1)v(1:j-1)\n",
    "    D(j, j) = v(j)\n",
    "    L(j+1:n, j) = (A(j+1:n, j) - L(j+1:n, 1:j-1)v(1:j-1)) / v(j)\n",
    "end\n",
    "```\n",
    "\n",
    "V následující části implementujete LDLT rozklad a využijete ho k řešení soustavy se symetrickou maticí."
   ]
  },
  {
   "cell_type": "code",
   "execution_count": null,
   "metadata": {},
   "outputs": [
    {
     "name": "stdout",
     "output_type": "stream",
     "text": [
      "[[1. 0. 0.]\n",
      " [2. 1. 0.]\n",
      " [3. 2. 1.]]\n",
      "[[ 1.  0.  0.]\n",
      " [ 0. -1.  0.]\n",
      " [ 0.  0.  0.]]\n",
      "[[1. 2. 3.]\n",
      " [2. 3. 4.]\n",
      " [3. 4. 5.]]\n"
     ]
    }
   ],
   "source": [
    "# ÚKOL: Doplňte následující kód\n",
    "\n",
    "import numpy as np\n",
    "\n",
    "def my_ldlt(A):\n",
    "    \"\"\"\n",
    "    Vypočítá LDLT rozklad symetrické matice.\n",
    "    Vstup: A - A symetrická matice\n",
    "    Výstup: L, D - Matice dekompozice takové, že platí A = L*D*L.T\n",
    "    \"\"\"\n",
    "    m, n = A.shape\n",
    "\n",
    "    # Zkontrolujme, že je matice čtvercová\n",
    "    if m != n:\n",
    "        raise ValueError('Matice musí být čtvercová!')\n",
    "\n",
    "    L = np.eye(m)\n",
    "    D = np.zeros((m, m))\n",
    "    v = np.zeros(m)\n",
    "\n",
    "    # doplňte\n",
    "    v[0] = A[0, 0]\n",
    "    D[0, 0] = v[0]\n",
    "    L[1:n, 0] = A[1:n, 0] / v[0]\n",
    "\n",
    "    # opraveno pomocí ChatGPT\n",
    "    for j in range(1, n):\n",
    "        for i in range(j):\n",
    "            v[i] = L[j, i] * D[i, i]\n",
    "        \n",
    "        v[j] = A[j, j] - np.sum(L[j, 0:j]**2 * np.diag(D)[0:j])\n",
    "        D[j, j] = v[j]\n",
    "        L[j+1:n, j] = (A[j+1:n, j] - L[j+1:n, 0:j] @ (L[j, 0:j] * np.diag(D)[0:j])) / v[j]\n",
    "\n",
    "    return L, D\n",
    "\n",
    "A = np.array([[1, 2, 3],\n",
    "              [2, 3, 4],\n",
    "              [3, 4, 5]])\n",
    "L, D = my_ldlt(A)\n",
    "print(L)\n",
    "print(D)\n",
    "print(L @ D @ L.T)"
   ]
  },
  {
   "cell_type": "code",
   "execution_count": 85,
   "metadata": {},
   "outputs": [
    {
     "name": "stdout",
     "output_type": "stream",
     "text": [
      "[[1.87629338 1.13938557 1.3588787  0.43637334 1.54752448]\n",
      " [1.13938557 1.35006779 0.44769368 1.0492905  1.13195737]\n",
      " [1.3588787  0.44769368 0.45926768 0.70400899 1.11769176]\n",
      " [0.43637334 1.0492905  0.70400899 0.4914827  0.81236356]\n",
      " [1.54752448 1.13195737 1.11769176 0.81236356 1.41729995]]\n"
     ]
    }
   ],
   "source": [
    "# Vygenerujeme náhodnou symetrickou matici\n",
    "A = np.random.rand(5, 5)\n",
    "\n",
    "A = A + A.transpose()\n",
    "print(A)"
   ]
  },
  {
   "cell_type": "code",
   "execution_count": 68,
   "metadata": {},
   "outputs": [
    {
     "name": "stdout",
     "output_type": "stream",
     "text": [
      "[[ 0.00000000e+00  0.00000000e+00  0.00000000e+00  0.00000000e+00\n",
      "   0.00000000e+00]\n",
      " [ 0.00000000e+00  4.44089210e-16  0.00000000e+00  0.00000000e+00\n",
      "  -1.66533454e-16]\n",
      " [ 0.00000000e+00  0.00000000e+00  0.00000000e+00  6.66133815e-16\n",
      "   1.11022302e-16]\n",
      " [ 0.00000000e+00  2.22044605e-16  8.88178420e-16 -6.66133815e-16\n",
      "   2.77555756e-16]\n",
      " [ 0.00000000e+00 -2.22044605e-16  0.00000000e+00 -9.99200722e-16\n",
      "  -2.22044605e-16]]\n"
     ]
    }
   ],
   "source": [
    "# Otestujeme, že váš kód vrací správný výsledek\n",
    "L, D = my_ldlt(A)\n",
    "AA = L@D@L.transpose()\n",
    "print(AA-A)"
   ]
  },
  {
   "cell_type": "markdown",
   "metadata": {},
   "source": [
    "Známe-li rozklad symetrické matice $\\mathsf{A} = \\mathsf{L}\\mathsf{D}\\mathsf{L}^T$, můžeme jej využít k řešení soustavy $\\mathsf{A}\\mathbf{x} = \\mathbf{b}$, kterou převedeme na \n",
    "$$\\mathsf{L}\\mathsf{D}\\mathsf{L}^T\\mathbf{x} = \\mathbf{b}$$\n",
    "a vyřešíme vhodnými substitucemi s využitím dopředné a zpětné substituce.\n",
    "\n",
    "Rozmyslete si, jak takové substituce budou vypadat a v následující části vyřešte náhodnou soustavu."
   ]
  },
  {
   "cell_type": "code",
   "execution_count": 69,
   "metadata": {},
   "outputs": [],
   "source": [
    "# ÚKOL: Zkopírujte z minulého cvičení\n",
    "\n",
    "def fsubst(L, b):\n",
    "    m, n = L.shape\n",
    "    x = np.zeros(n)\n",
    "\n",
    "    x[0] = b[0] / L[0, 0]\n",
    "\n",
    "    for i in range(1, m):\n",
    "        suma = 0\n",
    "        for j in range(i):\n",
    "            suma += L[i, j] * x[j]\n",
    "\n",
    "        x[i] = (b[i] - suma)/L[i, i]\n",
    "\n",
    "    return x"
   ]
  },
  {
   "cell_type": "code",
   "execution_count": 70,
   "metadata": {},
   "outputs": [],
   "source": [
    "# ÚKOL: Zkopírujte z minulého cvičení\n",
    "\n",
    "def bsubst(U, b):\n",
    "    m, n = U.shape\n",
    "    x = np.zeros(n)\n",
    "\n",
    "    x[-1] = b[-1] / U[-1, -1]\n",
    "\n",
    "    for i in range(m-1, -1, -1):\n",
    "        suma = 0\n",
    "        for j in range(m-1, i, -1):\n",
    "            suma += U[i, j] * x[j]\n",
    "        \n",
    "        x[i] = (b[i] - suma)/U[i, i]\n",
    "    \n",
    "    return x"
   ]
  },
  {
   "cell_type": "code",
   "execution_count": 86,
   "metadata": {},
   "outputs": [
    {
     "name": "stdout",
     "output_type": "stream",
     "text": [
      "[[ 1.          0.          0.          0.          0.        ]\n",
      " [ 0.60725342  1.          0.          0.          0.        ]\n",
      " [ 0.72423573 -0.57354318  1.          0.          0.        ]\n",
      " [ 0.23257202  1.19163576 -1.13004641  1.          0.        ]\n",
      " [ 0.82477745  0.29204802 -0.1445458   0.85664795  1.        ]]\n",
      "[[0.00000000e+00 0.00000000e+00 2.22044605e-16 0.00000000e+00\n",
      "  2.22044605e-16]\n",
      " [0.00000000e+00 0.00000000e+00 5.55111512e-17 0.00000000e+00\n",
      "  2.22044605e-16]\n",
      " [2.22044605e-16 1.66533454e-16 2.22044605e-16 1.11022302e-16\n",
      "  2.22044605e-16]\n",
      " [0.00000000e+00 0.00000000e+00 0.00000000e+00 0.00000000e+00\n",
      "  0.00000000e+00]\n",
      " [2.22044605e-16 0.00000000e+00 2.22044605e-16 0.00000000e+00\n",
      "  2.22044605e-16]]\n",
      "[ 0.28843816 -0.72833698  1.50041137  2.26044496 -1.74915867]\n",
      "[0.02974709 0.40895305 0.3913244  0.10794957 0.65613674]\n",
      "[0.02974709 0.40895305 0.3913244  0.10794957 0.65613674]\n"
     ]
    }
   ],
   "source": [
    "import scipy\n",
    "import scipy.linalg\n",
    "\n",
    "# ÚKOL: Doplňte následující buňku a vyřešte soustavu rovnic Ax = b se symetrickou náhodnou maticí A a\n",
    "# náhodným vektorem pravé strany b. Využijte vaše metody fsubst a bsubst\n",
    "b = np.random.rand(5)\n",
    "\n",
    "# doplňte řešení soustavy Ax = b pomoci LDLT rozkladu\n",
    "L, D, P = scipy.linalg.ldl(A)\n",
    "AA = L @ D @ L.T\n",
    "print(L)\n",
    "print(AA - A)\n",
    "\n",
    "y = fsubst(L, b)\n",
    "y_s_vlnkou = np.zeros(b.size)\n",
    "for i in range(b.size):\n",
    "    y_s_vlnkou[i] = y[i] / D[i, i]\n",
    "x = bsubst(L.T, y_s_vlnkou)\n",
    "\n",
    "print(x)\n",
    "print(A @ x)\n",
    "print(b)"
   ]
  },
  {
   "cell_type": "code",
   "execution_count": 87,
   "metadata": {},
   "outputs": [
    {
     "name": "stdout",
     "output_type": "stream",
     "text": [
      "[ 0.28843816 -0.72833698  1.50041137  2.26044496 -1.74915867]\n",
      "[ 0.28843816 -0.72833698  1.50041137  2.26044496 -1.74915867]\n"
     ]
    }
   ],
   "source": [
    "# Porovnáme vaše řešení a řešení pomocí numpy\n",
    "print(x)\n",
    "print(np.linalg.solve(A, b))"
   ]
  }
 ],
 "metadata": {
  "kernelspec": {
   "display_name": "Python 3",
   "language": "python",
   "name": "python3"
  },
  "language_info": {
   "codemirror_mode": {
    "name": "ipython",
    "version": 3
   },
   "file_extension": ".py",
   "mimetype": "text/x-python",
   "name": "python",
   "nbconvert_exporter": "python",
   "pygments_lexer": "ipython3",
   "version": "3.11.9"
  }
 },
 "nbformat": 4,
 "nbformat_minor": 2
}
