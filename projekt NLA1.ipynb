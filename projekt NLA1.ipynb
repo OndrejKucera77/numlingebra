{
 "cells": [
  {
   "cell_type": "markdown",
   "id": "3767d112",
   "metadata": {},
   "source": [
    "# Semestrální projekt z NLA1 2024/25\n",
    "**Zadání č. 3**<br>\n",
    "**Kučera Ondřej**\n",
    "\n",
    "## Úkol 1\n",
    "Naprogramujte v programovacím jazyce Python LU rozklad matice $A\\in \\mathbb{R}^{n×n}, A = LU$,\n",
    "pomocí následujícího pseudokódu:\n",
    "\n",
    "$$\n",
    "\\begin{array}{l}\n",
    "L = I; U = 0\\\\\n",
    "\\text{for } j = 1 : n\\\\\n",
    "    \\quad\\begin{array}{l}\n",
    "    \\text{if } j = 1\\\\\n",
    "        \\quad\\begin{array}{l}\n",
    "        v(j : n) = A(j : n, j)\n",
    "        \\end{array}\\\\\n",
    "    \\text{else}\\\\\n",
    "        \\quad\\begin{array}{l}\n",
    "        \\text{Solve } L(1 : (j - 1), 1 : (j - 1))z = A(1 : (j - 1), j) \\text{ for } z\\\\\n",
    "            \\text{ and set } U(1 : (j - 1), j) = z\\\\\n",
    "        v(j : n) = A(j : n, j) - L(j : n, 1 : (j - 1))z\n",
    "        \\end{array}\\\\\n",
    "    \\text{end if}\\\\\n",
    "    \\text{if } j < n\\\\\n",
    "        \\quad\\begin{array}{l}\n",
    "        L((j + 1) : n, j) = v((j + 1) : n) / v(j)\n",
    "        \\end{array}\\\\\n",
    "    \\text{end if}\\\\\n",
    "    U(j, j) = v(j)\n",
    "    \\end{array}\\\\\n",
    "\\text{end for}\n",
    "\\end{array}\n",
    "$$\n",
    "    \n",
    "Rozšiřte algoritmus tak, aby fungoval pro matice $A\\in \\mathbb{R}^{m×n}$, přičemž $m > n$, a zkuste odhadnout\n",
    "potřebný počet operací ve tvaru $O(kn^l)$, resp. $O(\\tilde{k}{m}^{\\tilde{l}})$, tzn. parametry $k, l\\in \\mathbb{Q}$, resp. $\\tilde{k}, \\tilde{l}\\in \\mathbb{Q}$."
   ]
  },
  {
   "cell_type": "code",
   "execution_count": 2,
   "id": "c93fd3a3",
   "metadata": {},
   "outputs": [],
   "source": [
    "import numpy as np"
   ]
  },
  {
   "cell_type": "code",
   "execution_count": 45,
   "id": "1230dfa9",
   "metadata": {},
   "outputs": [],
   "source": [
    "def LU_rozklad(A):\n",
    "    \"\"\"\n",
    "    Vypočítá LU rozklad čtvercové matice A.\n",
    "    \"\"\"\n",
    "    m, n = A.shape\n",
    "    if m != n:\n",
    "        raise ValueError(\"Matice musí být čtvercová!\")\n",
    "\n",
    "    L = np.eye(n)\n",
    "    U = np.zeros((n, n))\n",
    "    v = np.zeros(n)\n",
    "\n",
    "    for j in range(n):\n",
    "        if j == 0:\n",
    "            v[j:n] = A[j:n, j]\n",
    "        else:\n",
    "            z = np.zeros(j)\n",
    "            for i in range(j):\n",
    "                z[i] = (A[i, j] - L[i, 0:i] @ z[0:i]) / L[i, i]\n",
    "            \n",
    "            U[0:j, j] = z\n",
    "            v[j:n] = A[j:n, j] - L[j:n, 0:j] @ z\n",
    "\n",
    "        if j < n-1:\n",
    "            L[j+1:n, j] = v[j+1:n] / v[j]\n",
    "        \n",
    "        U[j, j] = v[j]\n",
    "\n",
    "    return L, U"
   ]
  },
  {
   "cell_type": "code",
   "execution_count": 68,
   "id": "87f521eb",
   "metadata": {},
   "outputs": [
    {
     "name": "stdout",
     "output_type": "stream",
     "text": [
      "[[1. 0. 0.]\n",
      " [2. 1. 0.]\n",
      " [4. 0. 1.]]\n",
      "[[ 1.  1.  3.]\n",
      " [ 0.  1. -1.]\n",
      " [ 0.  0. -3.]]\n",
      "True\n"
     ]
    }
   ],
   "source": [
    "A = np.array([[1, 1, 3],\n",
    "              [2, 3, 5],\n",
    "              [4, 4, 9]])\n",
    "\n",
    "L, U = LU_rozklad(A)\n",
    "print(L)\n",
    "print(U)\n",
    "print(np.allclose(A, L @ U))"
   ]
  },
  {
   "cell_type": "code",
   "execution_count": 87,
   "id": "9a7dbfdb",
   "metadata": {},
   "outputs": [],
   "source": [
    "def obecny_LU_rozklad(A):\n",
    "    \"\"\"\n",
    "    Vypočítá LU rozklad obdélníkové matice A (m > n).\n",
    "    \"\"\"\n",
    "    m, n = A.shape\n",
    "    if m <= n:\n",
    "        raise ValueError(\"Počet řádků matice musí být vyšší než počet sloupců!\")\n",
    "\n",
    "    L = np.eye(m)\n",
    "    U = np.zeros((m, n))\n",
    "    v = np.zeros(m)\n",
    "\n",
    "    for j in range(n):\n",
    "        if j == 0:\n",
    "            v[j:m] = A[j:m, j]\n",
    "        else:\n",
    "            z = np.zeros(j)\n",
    "            for i in range(j):\n",
    "                z[i] = (A[i, j] - L[i, 0:i] @ z[0:i]) / L[i, i]\n",
    "            \n",
    "            U[0:j, j] = z\n",
    "            v[j:m] = A[j:m, j] - L[j:m, 0:j] @ z\n",
    "\n",
    "        if j < n-1:\n",
    "            L[j+1:m, j] = v[j+1:m] / v[j]\n",
    "        \n",
    "        U[j, j] = v[j]\n",
    "    \n",
    "    for j in range(n, m):\n",
    "        L[j, n-1] = (A[j, n-1] - L[j, 0:n-1] @ U[0:n-1, n-1]) / U[n-1, n-1]\n",
    "\n",
    "    return L, U"
   ]
  },
  {
   "cell_type": "code",
   "execution_count": 88,
   "id": "3b9d08ad",
   "metadata": {},
   "outputs": [
    {
     "name": "stdout",
     "output_type": "stream",
     "text": [
      "[[1. 0. 0. 0. 0.]\n",
      " [1. 1. 0. 0. 0.]\n",
      " [2. 1. 1. 0. 0.]\n",
      " [1. 1. 3. 1. 0.]\n",
      " [3. 1. 3. 1. 1.]]\n",
      "[[ 1.  2. -1.  0.]\n",
      " [ 0.  2.  3.  4.]\n",
      " [ 0.  0.  1. -2.]\n",
      " [ 0.  0.  0.  5.]\n",
      " [ 0.  0.  0.  0.]]\n",
      "True\n"
     ]
    }
   ],
   "source": [
    "A = np.array([[1, 2, -1, 0],\n",
    "              [1, 4, 2, 4],\n",
    "              [2, 6, 2, 2],\n",
    "              [1, 4, 5, 3],\n",
    "              [3, 8, 3, 3]])\n",
    "\n",
    "L, U = obecny_LU_rozklad(A)\n",
    "print(L)\n",
    "print(U)\n",
    "print(np.allclose(A, L @ U))"
   ]
  },
  {
   "cell_type": "code",
   "execution_count": 89,
   "id": "dc91e5b2",
   "metadata": {},
   "outputs": [
    {
     "name": "stdout",
     "output_type": "stream",
     "text": [
      "True\n",
      "True\n"
     ]
    }
   ],
   "source": [
    "A = np.random.rand(10, 10)\n",
    "L, U = LU_rozklad(A)\n",
    "print(np.allclose(A, L@U))\n",
    "\n",
    "A = np.random.rand(15, 10)\n",
    "L, U = obecny_LU_rozklad(A)\n",
    "print(np.allclose(A, L@U))"
   ]
  }
 ],
 "metadata": {
  "kernelspec": {
   "display_name": "Python 3",
   "language": "python",
   "name": "python3"
  },
  "language_info": {
   "codemirror_mode": {
    "name": "ipython",
    "version": 3
   },
   "file_extension": ".py",
   "mimetype": "text/x-python",
   "name": "python",
   "nbconvert_exporter": "python",
   "pygments_lexer": "ipython3",
   "version": "3.11.9"
  }
 },
 "nbformat": 4,
 "nbformat_minor": 5
}
