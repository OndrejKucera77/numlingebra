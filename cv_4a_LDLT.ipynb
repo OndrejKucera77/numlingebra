{
 "cells": [
  {
   "cell_type": "markdown",
   "metadata": {},
   "source": [
    "# Cvičení 4a\n",
    "\n",
    "Tématem tohoto cvičení jsou přímé metody řešení soustav lineárních rovnic. Budeme se zabývat LDLT rozkladem."
   ]
  },
  {
   "cell_type": "markdown",
   "metadata": {},
   "source": [
    "## LDLT rozklad\n",
    "\n",
    "LDLT rozklad je vhodný pro symetrické matice. Lze jej popsat následujícím pseudokódem:\n",
    "\n",
    "```\n",
    "n = size(A)\n",
    "L = I, D = 0\n",
    "\n",
    "v(1) = A(1, 1)\n",
    "D(1, 1) = v(1)\n",
    "L(2:n, 1) = A(2:n, 1)/v(1)\n",
    "\n",
    "for j = 2 to n do\n",
    "    for i = 1 to j - 1 do\n",
    "        v(i) = L(j, i)D(i, i)\n",
    "    end\n",
    "\n",
    "    v(j) = A(j, j) - L(j, 1:j-1)v(1:j-1)\n",
    "    D(j, j) = v(j)\n",
    "    L(j+1:n, j) = (A(j+1:n, j) - L(j+1:n, 1:j-1)v(1:j-1)) / v(j)\n",
    "end\n",
    "```\n",
    "\n",
    "V následující části implementujete LDLT rozklad a využijete ho k řešení soustavy se symetrickou maticí."
   ]
  },
  {
   "cell_type": "code",
   "execution_count": 47,
   "metadata": {},
   "outputs": [
    {
     "name": "stdout",
     "output_type": "stream",
     "text": [
      "[[1.   0.   0.  ]\n",
      " [2.   1.   0.  ]\n",
      " [3.   1.25 1.  ]]\n",
      "[[ 1.  0.  0.]\n",
      " [ 0.  4.  0.]\n",
      " [ 0.  0. -3.]]\n",
      "[[ 1.    2.    3.  ]\n",
      " [ 2.    8.   11.  ]\n",
      " [ 3.   11.   12.25]]\n"
     ]
    }
   ],
   "source": [
    "# ÚKOL: Doplňte následující kód\n",
    "\n",
    "import numpy as np\n",
    "\n",
    "def my_ldlt(A):\n",
    "    \"\"\"\n",
    "    Vypočítá LDLT rozklad symetrické matice.\n",
    "    Vstup: A - A symetrická matice\n",
    "    Výstup: L, D - Matice dekompozice takové, že platí A = L*D*L.T\n",
    "    \"\"\"\n",
    "    m, n = A.shape\n",
    "\n",
    "    # Zkontrolujme, že je matice čtvercová\n",
    "    if m != n:\n",
    "        raise ValueError('Matice musí být čtvercová!')\n",
    "\n",
    "    L = np.eye(m)\n",
    "    D = np.zeros((m, m))\n",
    "    v = np.zeros(m)\n",
    "\n",
    "    # doplňte\n",
    "    v[0] = A[0, 0]\n",
    "    D[0, 0] = v[0]\n",
    "    L[1:n, 0] = A[1:n, 0] / v[0]\n",
    "\n",
    "    for j in range(1, n):\n",
    "        for i in range(j-1):\n",
    "            v[i] = L[j, i] * D[i, i]\n",
    "        \n",
    "        v[j] = A[j, j] - L[j, 0:j-1] @ v[0:j-1]\n",
    "        D[j, j] = v[j]\n",
    "        L[j+1:n, j] = (A[j+1:n, j] - L[j+1:n, 0:j-1] @ v[0:j-1]) / v[j]\n",
    "\n",
    "    return L, D\n",
    "\n",
    "A = np.array([[1, 2, 3],\n",
    "              [2, 4, 5],\n",
    "              [3, 5, 6]])\n",
    "L, D = my_ldlt(A)\n",
    "print(L)\n",
    "print(D)\n",
    "print(L @ D @ L.T)"
   ]
  },
  {
   "cell_type": "code",
   "execution_count": 86,
   "metadata": {},
   "outputs": [
    {
     "name": "stdout",
     "output_type": "stream",
     "text": [
      "[[0.35750669 1.9073024  0.81948986 1.28212895 1.09431212]\n",
      " [1.9073024  0.62475576 0.41908817 1.18695134 1.3749263 ]\n",
      " [0.81948986 0.41908817 0.83265372 0.44719005 1.09689383]\n",
      " [1.28212895 1.18695134 0.44719005 1.64093348 1.17120989]\n",
      " [1.09431212 1.3749263  1.09689383 1.17120989 1.54411037]]\n"
     ]
    }
   ],
   "source": [
    "# Vygenerujeme náhodnou symetrickou matici\n",
    "A = np.random.rand(5, 5)\n",
    "\n",
    "A = A + A.transpose()\n",
    "print(A)"
   ]
  },
  {
   "cell_type": "code",
   "execution_count": 51,
   "metadata": {},
   "outputs": [
    {
     "name": "stdout",
     "output_type": "stream",
     "text": [
      "[[ 0.          0.          0.          0.          0.        ]\n",
      " [ 0.          0.23468205  0.32283565  0.30388092  0.09822814]\n",
      " [ 0.          0.32283565  0.7139469   0.2682272   0.48864003]\n",
      " [ 0.          0.30388092  0.2682272   0.07759442 -0.46456855]\n",
      " [ 0.          0.09822814  0.48864003 -0.46456855  0.00819028]]\n"
     ]
    }
   ],
   "source": [
    "# Otestujeme, že váš kód vrací správný výsledek\n",
    "L, D = my_ldlt(A)\n",
    "AA = L@D@L.transpose()\n",
    "print(AA-A)"
   ]
  },
  {
   "cell_type": "markdown",
   "metadata": {},
   "source": [
    "Známe-li rozklad symetrické matice $\\mathsf{A} = \\mathsf{L}\\mathsf{D}\\mathsf{L}^T$, můžeme jej využít k řešení soustavy $\\mathsf{A}\\mathbf{x} = \\mathbf{b}$, kterou převedeme na \n",
    "$$\\mathsf{L}\\mathsf{D}\\mathsf{L}^T\\mathbf{x} = \\mathbf{b}$$\n",
    "a vyřešíme vhodnými substitucemi s využitím dopředné a zpětné substituce.\n",
    "\n",
    "Rozmyslete si, jak takové substituce budou vypadat a v následující části vyřešte náhodnou soustavu."
   ]
  },
  {
   "cell_type": "code",
   "execution_count": 55,
   "metadata": {},
   "outputs": [],
   "source": [
    "# ÚKOL: Zkopírujte z minulého cvičení\n",
    "\n",
    "def fsubst(L, b):\n",
    "    m, n = L.shape\n",
    "    x = np.zeros(n)\n",
    "\n",
    "    x[0] = b[0] / L[0, 0]\n",
    "\n",
    "    for i in range(1, m):\n",
    "        suma = 0\n",
    "        for j in range(i):\n",
    "            suma += L[i, j] * x[j]\n",
    "\n",
    "        x[i] = (b[i] - suma)/L[i, i]\n",
    "\n",
    "    return x"
   ]
  },
  {
   "cell_type": "code",
   "execution_count": 56,
   "metadata": {},
   "outputs": [],
   "source": [
    "# ÚKOL: Zkopírujte z minulého cvičení\n",
    "\n",
    "def bsubst(U, b):\n",
    "    m, n = U.shape\n",
    "    x = np.zeros(n)\n",
    "\n",
    "    x[-1] = b[-1] / U[-1, -1]\n",
    "\n",
    "    for i in range(m-1, -1, -1):\n",
    "        suma = 0\n",
    "        for j in range(m-1, i, -1):\n",
    "            suma += U[i, j] * x[j]\n",
    "        \n",
    "        x[i] = (b[i] - suma)/U[i, i]\n",
    "    \n",
    "    return x"
   ]
  },
  {
   "cell_type": "code",
   "execution_count": 87,
   "metadata": {},
   "outputs": [
    {
     "name": "stdout",
     "output_type": "stream",
     "text": [
      "[[ 1.          0.          0.          0.          0.        ]\n",
      " [ 0.          1.          0.          0.          0.        ]\n",
      " [ 0.08415617  0.4138848   1.          0.          0.        ]\n",
      " [ 0.42843167  0.59191545 -0.25747419  1.          0.        ]\n",
      " [ 0.56779965  0.46731968  0.73824847  0.0020676   1.        ]]\n",
      "[[ 0.00000000e+00  0.00000000e+00  0.00000000e+00 -2.22044605e-16\n",
      "   0.00000000e+00]\n",
      " [ 0.00000000e+00  0.00000000e+00 -5.55111512e-17  0.00000000e+00\n",
      "  -2.22044605e-16]\n",
      " [ 0.00000000e+00 -5.55111512e-17  0.00000000e+00 -5.55111512e-17\n",
      "  -2.22044605e-16]\n",
      " [-2.22044605e-16  0.00000000e+00 -5.55111512e-17 -2.22044605e-16\n",
      "  -2.22044605e-16]\n",
      " [ 0.00000000e+00 -2.22044605e-16  0.00000000e+00 -2.22044605e-16\n",
      "  -2.22044605e-16]]\n",
      "[-2.61126275 -0.26027715 -3.63567634  0.84933321  5.52216311]\n",
      "[2.72255366 1.93393818 1.16079813 2.57856114 2.31822744]\n",
      "[0.20811758 0.82362841 0.4896525  0.8440876  0.37166191]\n"
     ]
    }
   ],
   "source": [
    "import scipy\n",
    "import scipy.linalg\n",
    "\n",
    "# ÚKOL: Doplňte následující buňku a vyřešte soustavu rovnic Ax = b se symetrickou náhodnou maticí A a\n",
    "# náhodným vektorem pravé strany b. Využijte vaše metody fsubst a bsubst\n",
    "b = np.random.rand(5)\n",
    "\n",
    "# doplňte řešení soustavy Ax = b pomoci LDLT rozkladu\n",
    "L, D, P = scipy.linalg.ldl(A)\n",
    "AA = L @ D @ L.T\n",
    "print(L)\n",
    "print(AA - A)\n",
    "\n",
    "y = fsubst(L, b)\n",
    "y_s_vlnkou = np.zeros(b.size)\n",
    "for i in range(b.size):\n",
    "    y_s_vlnkou[i] = y[i] / D[i, i]\n",
    "x = bsubst(L.T, y_s_vlnkou)\n",
    "\n",
    "print(x)\n",
    "print(A @ x)\n",
    "print(b)"
   ]
  },
  {
   "cell_type": "code",
   "execution_count": 88,
   "metadata": {},
   "outputs": [
    {
     "name": "stdout",
     "output_type": "stream",
     "text": [
      "[-2.61126275 -0.26027715 -3.63567634  0.84933321  5.52216311]\n",
      "[-2.77140227 -1.54858106 -3.63567634  0.84933321  5.52216311]\n"
     ]
    }
   ],
   "source": [
    "# Porovnáme vaše řešení a řešení pomocí numpy\n",
    "print(x)\n",
    "print(np.linalg.solve(A, b))"
   ]
  }
 ],
 "metadata": {
  "kernelspec": {
   "display_name": "Python 3",
   "language": "python",
   "name": "python3"
  },
  "language_info": {
   "codemirror_mode": {
    "name": "ipython",
    "version": 3
   },
   "file_extension": ".py",
   "mimetype": "text/x-python",
   "name": "python",
   "nbconvert_exporter": "python",
   "pygments_lexer": "ipython3",
   "version": "3.10.12"
  }
 },
 "nbformat": 4,
 "nbformat_minor": 2
}
