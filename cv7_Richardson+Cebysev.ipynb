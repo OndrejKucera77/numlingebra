{
 "cells": [
  {
   "attachments": {},
   "cell_type": "markdown",
   "metadata": {},
   "source": [
    "# Cvičení 6\n",
    "\n",
    "Tématem tohoto cvičení je iterační řešení soustav lineárních rovnic."
   ]
  },
  {
   "attachments": {},
   "cell_type": "markdown",
   "metadata": {},
   "source": [
    "## Richardsonova metoda\n",
    "\n",
    "Základní tvar Richardsonovy iterační metody je \n",
    "$$\\mathbf{x}^{k+1} = \\mathbf{x}^k + \\omega\\mathbf{r}^k,$$\n",
    "kde $\\omega>0$ a $\\mathbf{r}^k = \\mathbf{b}-\\mathsf{A}\\mathbf{x}^k$ je reziduum. \n",
    "\n",
    "Volbou hodnoty $\\omega$ jsme schopni ovlivnit rychlost konvergence metody. Optimální hodnota je \n",
    "$$\\omega = \\frac{2}{\\lambda_{\\mathrm{min}}+\\lambda_{\\mathrm{max}}}$$\n",
    "\n",
    "Metoda konverguje pro $\\omega\\in(0, 2/\\lambda_{\\mathrm{max}})$."
   ]
  },
  {
   "cell_type": "markdown",
   "metadata": {},
   "source": [
    "Doplňte správné řešení Richardsonovy metody do buňky níže. Vyjít můžete např. z následujícího pseudokódu:\n",
    "\n",
    "\n",
    "$$\n",
    "\\begin{array}{l}\n",
    "\\text{Input: SPD matrix } A, \\text{ right-hand side vector } b, \\text{ initial approximation } x_0, \\text{ tolerance tol, maximum number of iterations max\\_it.}\\\\\n",
    "\\text{Calculate the initial residual norm } r_0 = ||b-A*x_0||\\\\\n",
    "\\text{Calculate the optimal value } \\omega \\\\\n",
    "\\text{\\bf{while} } \\text{r/r0 > tol and k < max\\_it \\bf{do}}\\\\\n",
    "\\quad\\begin{array}{l}\n",
    "    \\text{Calculate solution vector } x^{k+1} = x^k + \\omega \\ r^k\\\\\n",
    "    \\text{Calculate the residual norm: } r^{k+1} = ||b-A*x^{k+1}||\\\\\n",
    "    \\text{Increment the iteration counter: } k = k + 1\\\\\n",
    "\\end{array}\\\\\n",
    "\\text{end while}\\\\\n",
    "\\text{The solution is stored in } x^{k+1}\\\\\n",
    "\\end{array}\n",
    "$$\n",
    "\n",
    "**Tip**: Budete potřebovat funkci `eigh` z NumPy, která slouží k určení vlastních čísel reálné symetrické matice."
   ]
  },
  {
   "cell_type": "code",
   "execution_count": 1,
   "metadata": {},
   "outputs": [],
   "source": [
    "import numpy as np\n",
    "from numpy.linalg import eigh"
   ]
  },
  {
   "cell_type": "code",
   "execution_count": null,
   "metadata": {},
   "outputs": [],
   "source": [
    "def richardson(A, b, x0, tol, max_it, omega=None):\n",
    "\n",
    "    r0 = np.linalg.norm(b - A@x0)\n",
    "    x = x0.copy()\n",
    "    r = b - A.dot(x)\n",
    "    \n",
    "    if omega is None:\n",
    "        w, v = eigh(A)\n",
    "        omega = 2/(w[0] + w[-1])\n",
    "\n",
    "    k = 0\n",
    "    \n",
    "    while np.linalg.norm(r) / r0 > tol and k < max_it:\n",
    "        x = x + omega * r\n",
    "        r = b - A.dot(x)\n",
    "        k += 1\n",
    "\n",
    "    return x, k"
   ]
  },
  {
   "cell_type": "code",
   "execution_count": null,
   "metadata": {},
   "outputs": [
    {
     "name": "stdout",
     "output_type": "stream",
     "text": [
      "Počet iterací: 8\n",
      "Moje x:\n",
      " [[ 0.00825095]\n",
      " [ 0.07237242]\n",
      " [ 0.16639486]\n",
      " [-0.00440128]\n",
      " [ 0.02640526]]\n",
      "Analytické řešení:\n",
      " [[ 0.00825085]\n",
      " [ 0.0723763 ]\n",
      " [ 0.16639982]\n",
      " [-0.00440064]\n",
      " [ 0.02640905]]\n",
      "Řešení je správné!\n"
     ]
    }
   ],
   "source": [
    "A = np.random.rand(5, 5)\n",
    "A = 0.5*(A + A.T)           # zajistí symetrii\n",
    "A = A + 5 * np.eye(5)       # zajistí diagonální dominanci\n",
    "b = np.random.rand(5, 1)\n",
    "x0 = np.zeros((5, 1))\n",
    "\n",
    "x, k = richardson(A, b, x0, 0.0001, 100)\n",
    "print(\"Počet iterací:\", k)\n",
    "# Ověření správnosti řešení\n",
    "print(\"Moje x:\\n\", x)\n",
    "# x se musí rovnat analytickému řešení\n",
    "print(\"Analytické řešení:\\n\", np.linalg.solve(A, b))\n",
    "\n",
    "# Porovnání chyby řešení\n",
    "if np.allclose(x, np.linalg.solve(A, b), atol=1e-5):\n",
    "    print(\"Řešení je správné!\")\n",
    "else:\n",
    "    print(\"Řešení není správné.\")"
   ]
  },
  {
   "attachments": {},
   "cell_type": "markdown",
   "metadata": {},
   "source": [
    "Nakonec otestujeme, jak počet iterací Richardsonovy metody závisí na parametru `omega`. Následující kód tedy:\n",
    "1. Vygeneruje symetrickou pozitivně definitní matici rozměru $10\\times 10$,\n",
    "2. určí její nejmenší a největší vlastní číslo,\n",
    "3. podle těchto vlastních čísel určí maximální možnou velikost parametru `omega` zajišťující konvergenci,\n",
    "4. určí optimální `omega`,\n",
    "5. řeší soustavu postupně pro různá omega mezi 0 a `omega_max` voláním vámi implementované metody,\n",
    "6. vykreslí do grafu potřebný počet iterací v závislosti na `omega`"
   ]
  },
  {
   "cell_type": "code",
   "execution_count": 67,
   "metadata": {},
   "outputs": [
    {
     "data": {
      "image/png": "[encoded data removed]",
      "text/plain": [
       "<Figure size 432x288 with 1 Axes>"
      ]
     },
     "metadata": {
      "needs_background": "light"
     },
     "output_type": "display_data"
    }
   ],
   "source": [
    "import matplotlib.pyplot as plt\n",
    "\n",
    "# vygenerujeme matici, vektor prave strany\n",
    "m = 10\n",
    "A = np.random.rand(m, m)\n",
    "A = A + A.T\n",
    "max_row_sum = np.linalg.norm(A, np.inf)\n",
    "A = A + 2*m * np.eye(m) \n",
    "b = np.random.rand(m, 1)\n",
    "\n",
    "# vypocitame optimalni omega, max. omega\n",
    "lambda_min = np.linalg.eigh(A)[0][0]\n",
    "lambda_max = np.linalg.eigh(A)[0][-1]\n",
    "omega_max = 2 / lambda_max\n",
    "omega_opt = 2 / (lambda_min + lambda_max)\n",
    "rho_opt = 1 - omega_opt * lambda_min\n",
    "\n",
    "# vytvorime pole hodnot mezi 0 a omega_max\n",
    "omegas = np.linspace(omega_max * 0.05, omega_max * 0.95, 200)\n",
    "\n",
    "epsilon = 1e-3\n",
    "max_it = 200\n",
    "k_opt = np.log(epsilon) / np.log(rho_opt) # odhad potrebneho poctu iteraci pri omega_opt\n",
    "\n",
    "# pocatecni odhad reseni\n",
    "x0 = np.random.rand(m, 1)\n",
    "\n",
    "# pole, do ktereho ukladame pocty iteraci v zavislosti na omega\n",
    "n_iters = np.zeros(len(omegas))\n",
    "\n",
    "# vyresime postupne ve smycce pro ruzna omega\n",
    "for i in range(len(omegas)):\n",
    "    _, n_iters[i] = richardson(A, b, x0, epsilon, max_it, omegas[i])\n",
    "\n",
    "# vykreslime\n",
    "plt.figure()\n",
    "plt.bar(omegas, n_iters, omegas[1]-omegas[0], align='edge')\n",
    "plt.title('Pocet iteraci Richardsonovy metody v zavislosti na omega', fontsize=14)\n",
    "plt.xlabel('omega', fontsize=12)\n",
    "plt.ylabel('pocet iteraci', fontsize=12)\n",
    "plt.xticks(fontsize=12)\n",
    "plt.yticks(fontsize=12)\n",
    "plt.axvline(x=omega_opt, linestyle='--', color='red', label='Opt. omega', linewidth=2)\n",
    "plt.axvline(x=omega_max, linestyle='--', color='blue', label='Max. omega', linewidth=2)\n",
    "plt.axhline(y=k_opt, linestyle='--', color='yellow', label='Opt. pocet iteraci', linewidth=2)\n",
    "plt.grid(True)\n",
    "plt.legend(fontsize=12)\n",
    "plt.show()\n"
   ]
  },
  {
   "cell_type": "markdown",
   "metadata": {},
   "source": [
    "## Čebyševova metoda"
   ]
  },
  {
   "cell_type": "markdown",
   "metadata": {},
   "source": [
    "Doplňte správné řešení Čebyševovy metody do buňky níže. Vyjít můžete např. z následujícího pseudokódu:\n",
    "\n",
    "\n",
    "$$\n",
    "\\begin{array}{l}\n",
    "\\text{Input: SPD matrix } A, \\text{ right-hand side vector } b, \\text{ initial approximation } x_0, \\text{ maximum number of iterations max\\_it.}\\\\\n",
    "\\text{Calculate the initial residual norm } r_0 = ||b-A*x_0||\\\\\n",
    "\\text{\\bf{for} } \\text{i=0,...,k-1}\\\\\n",
    "\\quad\\begin{array}{l}\n",
    "    \\text{Calculate } \\omega_i \\\\\n",
    "    \\text{Calculate solution vector } x^{i+1} = x^i + \\omega_i \\ r^i\\\\\n",
    "    \\text{Calculate the residual norm: } r^{i+1} = ||b-A*x^{i+1}||\\\\\n",
    "\\end{array}\\\\\n",
    "\\text{end for}\\\\\n",
    "\\text{The solution is stored in } x^{i+1}\\\\\n",
    "\\end{array}\n",
    "$$\n",
    "\n",
    "**Tip**: Opět budete potřebovat funkci `eigh` z NumPy, která slouží k určení vlastních čísel reálné symetrické matice."
   ]
  },
  {
   "cell_type": "code",
   "execution_count": 100,
   "metadata": {},
   "outputs": [],
   "source": [
    "def chebyshev(A, b, x0, k):\n",
    "    m, n = np.shape(A)\n",
    "    r0 = np.linalg.norm(b - A @ x0)\n",
    "    r = b - A.dot(x0)\n",
    "    x = np.copy(x0)\n",
    "\n",
    "    w, v = eigh(A)\n",
    "\n",
    "    for i in range(k):\n",
    "        omega = 1/((w[0] + w[-1])/2 - (w[-1] - w[0])/2 * np.cos((2*i+1) * np.pi / (2*k)))\n",
    "        x = x + omega * r\n",
    "        r = b - A.dot(x)\n",
    "        \n",
    "        #if np.linalg.norm(r) < tol:\n",
    "        #    return x, i+1, np.linalg.norm(r)\n",
    "\n",
    "    return x, k, np.linalg.norm(r)"
   ]
  },
  {
   "cell_type": "code",
   "execution_count": 27,
   "metadata": {},
   "outputs": [],
   "source": [
    "A = np.random.rand(5, 5)\n",
    "A = 0.5*(A + A.T)           # zajistí symetrii\n",
    "A = A + 5 * np.eye(5)       # zajistí diagonální dominanci\n",
    "b = np.random.rand(5, 1)\n",
    "x0 = np.zeros((5, 1))"
   ]
  },
  {
   "cell_type": "code",
   "execution_count": 101,
   "metadata": {},
   "outputs": [
    {
     "name": "stdout",
     "output_type": "stream",
     "text": [
      "Moje x:\n",
      " [[0.01155435]\n",
      " [0.00089833]\n",
      " [0.0179081 ]\n",
      " [0.02187756]\n",
      " [0.00723364]\n",
      " [0.01826899]\n",
      " [0.02282653]\n",
      " [0.03798836]\n",
      " [0.00435161]\n",
      " [0.00378995]]\n",
      "Analytické řešení:\n",
      " [[0.01155435]\n",
      " [0.00089833]\n",
      " [0.0179081 ]\n",
      " [0.02187756]\n",
      " [0.00723364]\n",
      " [0.01826899]\n",
      " [0.02282653]\n",
      " [0.03798836]\n",
      " [0.00435161]\n",
      " [0.00378995]]\n",
      "Řešení je správné!\n"
     ]
    }
   ],
   "source": [
    "x,_,_ = chebyshev(A, b, x0, 10)\n",
    "# Ověření správnosti řešení\n",
    "print(\"Moje x:\\n\", x)\n",
    "# x se musí rovnat analytickému řešení\n",
    "print(\"Analytické řešení:\\n\", np.linalg.solve(A, b))\n",
    "\n",
    "# Porovnání chyby řešení\n",
    "if np.allclose(x, np.linalg.solve(A, b), atol=1e-5):\n",
    "    print(\"Řešení je správné!\")\n",
    "else:\n",
    "    print(\"Řešení není správné.\")"
   ]
  },
  {
   "cell_type": "markdown",
   "metadata": {},
   "source": [
    "## Domácí úkol č. 5\n",
    "\n",
    "Zkuste pro pevně zvolenou matici `A`, pravou stranu `b` a počáteční `x0` naimplementovat vykreslení grafu závislosti výsledné chyby řešení `tol` na parametru počtu iterací `k`. Tzn. nachystat si vektor několika možných hodnot parametru `k` a měřit, jaká bude výsledná chyba výpočtu. "
   ]
  },
  {
   "cell_type": "code",
   "execution_count": null,
   "metadata": {},
   "outputs": [],
   "source": [
    "# Definování matice A, vektoru b a počátečního vektoru x0\n",
    "A = np.random.rand(5, 5)\n",
    "A = 0.5*(A + A.T)           # zajistí symetrii\n",
    "A = A + 5 * np.eye(5)       # zajistí diagonální dominanci\n",
    "b = np.random.rand(5, 1)\n",
    "x0 = np.zeros((5, 1))\n",
    "\n",
    "# Vektor počtu iterací\n",
    "iterations =  \n",
    "\n",
    "# Měření výsledné chyby pro každou hodnotu parametru k\n",
    "errors = []\n",
    "for k in iterations:\n",
    "    # doplňte volání funkce chebyshev\n",
    "    errors.append(error)\n",
    "\n",
    "# Doplňte vykreslení grafu závislosti výsledné chyby řešení atol na parametru počtu iterací k\n",
    "plt.plot # Doplňte\n",
    "plt.xlabel('Počet iterací')\n",
    "plt.ylabel('Výsledná chyba řešení')\n",
    "plt.title('Závislost výsledné chyby řešení atol na parametru počtu iterací k')\n",
    "# Doplňte případnou úpravu osy x a y apod. \n",
    "plt.show()"
   ]
  }
 ],
 "metadata": {
  "kernelspec": {
   "display_name": "Python 3",
   "language": "python",
   "name": "python3"
  },
  "language_info": {
   "codemirror_mode": {
    "name": "ipython",
    "version": 3
   },
   "file_extension": ".py",
   "mimetype": "text/x-python",
   "name": "python",
   "nbconvert_exporter": "python",
   "pygments_lexer": "ipython3",
   "version": "3.10.12"
  },
  "orig_nbformat": 4
 },
 "nbformat": 4,
 "nbformat_minor": 2
}
