{
 "cells": [
  {
   "cell_type": "markdown",
   "id": "a01cc63b",
   "metadata": {},
   "source": [
    "# Cvičení 10\n",
    "\n",
    "Uvažujme problém hledání vlastních čísel čtvercové $n \\times n$ matice $A$ jako lineární transformaci $Av = \\lambda v$, kde $\\lambda$ je vlastní číslo matice $A$ a $v$ vlastní vektor odpovídající vlastnímu číslu $\\lambda$.  \n",
    "## Mocninná metoda\n",
    "\n",
    "Mocninná metoda řeší tzv. částečný problém vlastních čísel - hledá největší vlastní číslo v absolutní hodnotě.\n",
    "\n",
    "Pro dominantní vlastní číslo $\\lambda_n$ platí\n",
    "$ |\\lambda_n| > |\\lambda_{n-1}| \\geq \\ldots \\geq |\\lambda_1|.$\n",
    "Vlastní vektor odpovídající dominantnímu vlastnímu číslu se nazývá dominantní vlastní vektor.\n",
    "\n",
    "Dále také platí: je-li $x$ vlastní vektor reálné symetrické matice $A$, pak odpovídající vlastní číslo je dáno výrazem \n",
    "$$\\lambda = \\frac{(Ax)^Tx}{x^Tx} = \\frac{x^TAx}{x^Tx} = \\frac{x^TAx}{\\|x\\|^2} = (q^k)^TAq^k, \\ \\textrm{kde} \\ \\ q^k = \\frac{x^k}{\\| x^k \\|}. $$\n",
    "\n",
    "Výraz $\\frac{x^TAx}{x^Tx}$ bývá označován jako Rayleighův podíl (Rayleigho koeficient) a používá se pro hledání odhadů pro nejmenší, resp. největší, vlastní číslo matic."
   ]
  },
  {
   "cell_type": "markdown",
   "id": "c559bac2",
   "metadata": {},
   "source": [
    "### Příklad 1\n",
    "\n",
    "Doplňte správné řešení Mocninné metody (anglicky Power method) do buňky níže dle následujícího algoritmu: \n",
    "\n",
    "$$\n",
    "\\begin{array}{l}\n",
    "\\text{Input: SPD matrix } A, \\text{ initial approximation } x_0, \\text{ maximum number of iterations max\\_it.}\\\\\n",
    "q^0 = \\frac{x^0}{\\| x^0 \\|}  \\\\\n",
    "\\text{\\bf{for} }  k = 1, 2, \\ldots, max\\_it \\\\\n",
    "\\quad\\begin{array}{l}\n",
    "    x^k = A q^{k-1} \\\\\n",
    "    q^k = \\frac{x^k}{\\| x^k \\|} \\\\ \n",
    "    \\lambda = (q^k)^TAq^k \\\\\n",
    "    k = k + 1 \\\\\n",
    "\\end{array}\\\\\n",
    "\\text{end for}\\\\\n",
    "\\text{The solution is stored in } \\lambda.\\\\\n",
    "\\end{array}\n",
    "$$\n",
    "\n",
    "Jako ukončovací podmínku volíme buď předepsaný počet iterací $max\\_it$ nebo sledujeme normu vektoru $Aq_k - \\lambda q_k$, která by se měla blížit nule pro $k \\rightarrow \\infty$."
   ]
  },
  {
   "cell_type": "code",
   "execution_count": 1,
   "id": "ea18376e",
   "metadata": {},
   "outputs": [],
   "source": [
    "import numpy as np\n",
    "\n",
    "def power_method(A, x0, max_it=100, tol=1e-10, use_residual_stop=True):\n",
    "    \"\"\"\n",
    "    Mocninná metoda pro hledání největšího vlastního čísla SPD matice A.\n",
    "\n",
    "    Parametry:\n",
    "    - A: SPD matice (symetrická, pozitivně definitní)\n",
    "    - x0: počáteční vektor\n",
    "    - max_it: maximální počet iterací\n",
    "    - tol: tolerance pro reziduální ukončení\n",
    "    - use_residual_stop: pokud True, metoda zastaví při malé normě rezidua\n",
    "\n",
    "    Návratové hodnoty:\n",
    "    - lambda_k: aproximace největšího vlastního čísla\n",
    "    - q: odpovídající vlastní vektor\n",
    "    - k: počet provedených iterací\n",
    "    \"\"\"\n",
    "    # vypočtěte počáteční hodnotu q:\n",
    "    q = x0 / np.linalg.norm(x0)\n",
    "\n",
    "    for k in range(1, max_it + 1):\n",
    "        # vypočtěte x:\n",
    "        x = A @ q\n",
    "        # vypočtěte novou hodnotu q:\n",
    "        q = x / np.linalg.norm(x)\n",
    "        # vypočtěte hodnotu lambda:\n",
    "        lambda_k = q.T @ A @ q\n",
    "\n",
    "        if use_residual_stop:\n",
    "            residual = np.linalg.norm(A @ q - lambda_k * q)\n",
    "            if residual < tol:\n",
    "                break\n",
    "\n",
    "    return lambda_k, q, k\n"
   ]
  },
  {
   "cell_type": "code",
   "execution_count": 2,
   "id": "c217991f",
   "metadata": {},
   "outputs": [
    {
     "name": "stdout",
     "output_type": "stream",
     "text": [
      "Aproximované největší vlastní číslo: 5.529699859223832\n",
      "Počet iterací: 14\n"
     ]
    }
   ],
   "source": [
    "# Zde otestujeme vaši funkci\n",
    "# Testovací SPD matice\n",
    "np.random.seed(42)\n",
    "A = np.random.rand(5, 5)\n",
    "A = A @ A.T  # SPD matice (symetrická a pozitivně definitní)\n",
    "\n",
    "# Počáteční vektor\n",
    "x0 = np.random.rand(5)\n",
    "\n",
    "# Spuštění metody\n",
    "lambda_approx, _, iters = power_method(A, x0, max_it=100)\n",
    "\n",
    "print(f\"Aproximované největší vlastní číslo: {lambda_approx}\")\n",
    "print(f\"Počet iterací: {iters}\")\n"
   ]
  },
  {
   "cell_type": "code",
   "execution_count": 14,
   "id": "fab6f392",
   "metadata": {},
   "outputs": [
    {
     "name": "stdout",
     "output_type": "stream",
     "text": [
      "11.963380807588676\n"
     ]
    }
   ],
   "source": [
    "A = np.array([[4, 3, 3, 2],\n",
    "              [3, 6, 3, 2],\n",
    "              [3, 3, 4, 2],\n",
    "              [2, 2, 2, 2]])\n",
    "x0 = np.array([1, 1, 1, 1])\n",
    "lambda_approx, _, iters = power_method(A, x0)\n",
    "print(lambda_approx)"
   ]
  },
  {
   "cell_type": "markdown",
   "id": "e2ef3701",
   "metadata": {},
   "source": [
    "### Příklad 2\n",
    "\n",
    "Upravte výše uvedený kód, aby uchovával historii hodnot v jednotlivých iteracích a přidejte ověření správnosti výpočtu vůči knihovní funkci Pythonu eigh. S pomocí historie vykreslete následující grafy: \n",
    "\n",
    "1.) závislost hodnoty vlastního čísla na iteraci, \n",
    "\n",
    "2.) závislost chyby řešení (ve srovnání se řešením pomocí knihovní funkce eigh) na iteraci. "
   ]
  },
  {
   "cell_type": "code",
   "execution_count": 3,
   "id": "2b7a5a91",
   "metadata": {},
   "outputs": [],
   "source": [
    "import numpy as np\n",
    "import matplotlib.pyplot as plt\n",
    "\n",
    "def power_method_history(A, x0, max_it=100, tol=1e-10, use_residual_stop=True):\n",
    "    \"\"\"\n",
    "    Mocninná metoda pro hledání největšího vlastního čísla SPD matice A.\n",
    "\n",
    "    Parametry:\n",
    "    - A: SPD matice (symetrická, pozitivně definitní)\n",
    "    - x0: počáteční vektor\n",
    "    - max_it: maximální počet iterací\n",
    "    - tol: tolerance pro reziduální ukončení\n",
    "    - use_residual_stop: pokud True, metoda zastaví při malé normě rezidua\n",
    "\n",
    "    Návratové hodnoty:\n",
    "    - lambda_k: aproximace největšího vlastního čísla\n",
    "    - q: odpovídající vlastní vektor\n",
    "    - k: počet provedených iterací\n",
    "    - lambdas: historie aproximací vlastního čísla\n",
    "    \"\"\"\n",
    " \n",
    "    # vypočtěte počáteční hodnotu q:       \n",
    "    q = x0 / np.linalg.norm(x0)\n",
    "    # vytvořte seznam pro ukládání hodnot vlastního čísla:\n",
    "    lambdas = []\n",
    "\n",
    "    for k in range(1, max_it + 1):\n",
    "        # vypočtěte x:\n",
    "        x = A @ q\n",
    "        # vypočtěte novou hodnotu q:\n",
    "        q = x / np.linalg.norm(x)\n",
    "        # vypočtěte hodnotu lambda:\n",
    "        lambda_k = q.T @ A @ q\n",
    "        # přidejte hodnotu lambda_k do historie:\n",
    "        lambdas.append(lambda_k)\n",
    "\n",
    "        if use_residual_stop:\n",
    "            residual = np.linalg.norm(A @ q - lambda_k * q)\n",
    "            if residual < tol:\n",
    "                break\n",
    "\n",
    "    return lambda_k, q, k, lambdas"
   ]
  },
  {
   "cell_type": "code",
   "execution_count": 4,
   "id": "8f3110c2",
   "metadata": {},
   "outputs": [
    {
     "name": "stdout",
     "output_type": "stream",
     "text": [
      "Mocninná metoda:    λ ≈ 6.2385875699 (v 15 iteracích)\n",
      "Numpy eigh:         λ = 6.2385875699\n",
      "Absolutní chyba:    1.78e-15\n"
     ]
    }
   ],
   "source": [
    "# Zde otestujeme vaši funkci\n",
    "# --- Testovací SPD matice ---\n",
    "np.random.seed(100)\n",
    "A = np.random.rand(5, 5)\n",
    "A = A @ A.T  # SPD matice\n",
    "\n",
    "x0 = np.random.rand(5)\n",
    "\n",
    "# --- Spuštění metody ---\n",
    "lambda_approx, _, iters, lambda_hist = power_method_history(A, x0, max_it=50)\n",
    "\n",
    "# --- Ověření správnosti ---\n",
    "eigvals, _ = np.linalg.eigh(A) # np.linalg.eigvalsh(A)\n",
    "lambda_true = eigvals[-1]  # největší vlastní číslo\n",
    "\n",
    "print(f\"Mocninná metoda:    λ ≈ {lambda_approx:.10f} (v {iters} iteracích)\")\n",
    "print(f\"Numpy eigh:         λ = {lambda_true:.10f}\")\n",
    "print(f\"Absolutní chyba:    {abs(lambda_true - lambda_approx):.2e}\")\n"
   ]
  },
  {
   "cell_type": "code",
   "execution_count": 13,
   "id": "cbdd96d8",
   "metadata": {},
   "outputs": [
    {
     "data": {
      "image/png": "[encoded data removed]",
      "text/plain": [
       "<Figure size 576x360 with 1 Axes>"
      ]
     },
     "metadata": {
      "needs_background": "light"
     },
     "output_type": "display_data"
    }
   ],
   "source": [
    "# --- Vykreslení konvergence ---\n",
    "plt.figure(figsize=(8, 5))\n",
    "plt.plot(range(iters), lambda_hist, label=\"Aproximované vlastní číslo\") # doplňte kód pro vykreslení konvergence\n",
    "plt.plot(range(iters), lambda_true - lambda_hist, label=\"Absolutní chyba\")\n",
    "plt.axhline(y=lambda_true, color='red', linestyle='--', label='Skutečné vlastní číslo')\n",
    "plt.title(\"Konvergence hodnoty vlastního čísla\")\n",
    "plt.yscale(\"log\")\n",
    "plt.xlabel(\"Iterace\")\n",
    "plt.ylabel(\"Odhadované $\\lambda$\")\n",
    "plt.grid(True)\n",
    "plt.legend()\n",
    "plt.tight_layout()\n",
    "plt.show()"
   ]
  },
  {
   "cell_type": "code",
   "execution_count": null,
   "id": "3a112b7d",
   "metadata": {},
   "outputs": [],
   "source": [
    "# --- Výpočet chyb v každé iteraci ---\n",
    "errors = [abs(lam - lambda_true) for lam in lambda_hist]\n",
    "\n",
    "# --- Vykreslení grafu chyby ---\n",
    "plt.figure(figsize=(8, 5))\n",
    "plt.semilogy # doplňte kód pro vykreslení chyby\n",
    "plt.title(\"Konvergence chyby řešení (absolutní chyba vs. iterace)\")\n",
    "plt.xlabel(\"Iterace\")\n",
    "plt.ylabel(r\"$|\\lambda_k - \\lambda_{\\mathrm{true}}|$\")\n",
    "plt.grid(True, which='both', linestyle='--')\n",
    "plt.tight_layout()\n",
    "plt.show()"
   ]
  }
 ],
 "metadata": {
  "kernelspec": {
   "display_name": "Python 3",
   "language": "python",
   "name": "python3"
  },
  "language_info": {
   "codemirror_mode": {
    "name": "ipython",
    "version": 3
   },
   "file_extension": ".py",
   "mimetype": "text/x-python",
   "name": "python",
   "nbconvert_exporter": "python",
   "pygments_lexer": "ipython3",
   "version": "3.10.12"
  }
 },
 "nbformat": 4,
 "nbformat_minor": 5
}
